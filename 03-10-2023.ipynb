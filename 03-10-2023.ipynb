{
 "cells": [
  {
   "cell_type": "code",
   "execution_count": 2,
   "id": "7013be1b",
   "metadata": {},
   "outputs": [
    {
     "name": "stdout",
     "output_type": "stream",
     "text": [
      "hiii\n"
     ]
    }
   ],
   "source": [
    "print(\"hiii\")"
   ]
  },
  {
   "cell_type": "markdown",
   "id": "b3244f6d",
   "metadata": {},
   "source": [
    "### comments in python\n",
    "    - singleline comment\n",
    "    - multiline comment"
   ]
  },
  {
   "cell_type": "code",
   "execution_count": 3,
   "id": "4fb78b67",
   "metadata": {},
   "outputs": [
    {
     "name": "stdout",
     "output_type": "stream",
     "text": [
      "hello\n"
     ]
    }
   ],
   "source": [
    "'''JSKDHFJKDESRHJKEHRJKH\n",
    "JKEHRJKEHRJKEHRJKEJ\n",
    "JKJDSHFJKEHRJKE\n",
    "JHERJKEHRJKHEJK\n",
    "'''\n",
    "print(\"hello\")"
   ]
  },
  {
   "cell_type": "code",
   "execution_count": 5,
   "id": "cc0bb060",
   "metadata": {},
   "outputs": [
    {
     "name": "stdout",
     "output_type": "stream",
     "text": [
      "['False', 'None', 'True', 'and', 'as', 'assert', 'async', 'await', 'break', 'class', 'continue', 'def', 'del', 'elif', 'else', 'except', 'finally', 'for', 'from', 'global', 'if', 'import', 'in', 'is', 'lambda', 'nonlocal', 'not', 'or', 'pass', 'raise', 'return', 'try', 'while', 'with', 'yield']\n"
     ]
    }
   ],
   "source": [
    "# printing keywords in python\n",
    "import keyword\n",
    "print(keyword.kwlist)"
   ]
  },
  {
   "cell_type": "code",
   "execution_count": 6,
   "id": "10e48d1c",
   "metadata": {
    "collapsed": true
   },
   "outputs": [
    {
     "name": "stdout",
     "output_type": "stream",
     "text": [
      "35\n"
     ]
    }
   ],
   "source": [
    "import keyword\n",
    "print(len(keyword.kwlist))"
   ]
  },
  {
   "cell_type": "markdown",
   "id": "6d92f4af",
   "metadata": {},
   "source": [
    "- Variable\n",
    "    - Which is used to store the data\n",
    "    \n",
    "- Rules\n",
    "    - Shouldn't starts with digits,special characters except _(underscore)\n",
    "    - Starts with alphabets\n",
    "    - We didn't use keywords as a variable name\n",
    "    - We didn't use spaces also"
   ]
  },
  {
   "cell_type": "code",
   "execution_count": 9,
   "id": "627eab42",
   "metadata": {
    "collapsed": true
   },
   "outputs": [
    {
     "name": "stdout",
     "output_type": "stream",
     "text": [
      "89\n",
      "a\n",
      "7836483\n"
     ]
    }
   ],
   "source": [
    "a = 89\n",
    "print(a)\n",
    "print(\"a\")\n",
    "print(\"7836483\")"
   ]
  },
  {
   "cell_type": "code",
   "execution_count": 10,
   "id": "e45f2949",
   "metadata": {
    "collapsed": true
   },
   "outputs": [
    {
     "ename": "SyntaxError",
     "evalue": "invalid syntax (3263328565.py, line 2)",
     "output_type": "error",
     "traceback": [
      "\u001b[1;36m  Cell \u001b[1;32mIn[10], line 2\u001b[1;36m\u001b[0m\n\u001b[1;33m    print(%a)\u001b[0m\n\u001b[1;37m          ^\u001b[0m\n\u001b[1;31mSyntaxError\u001b[0m\u001b[1;31m:\u001b[0m invalid syntax\n"
     ]
    }
   ],
   "source": [
    "%a = 90\n",
    "print(%a)"
   ]
  },
  {
   "cell_type": "code",
   "execution_count": 11,
   "id": "ad7db6c1",
   "metadata": {
    "collapsed": true
   },
   "outputs": [
    {
     "ename": "SyntaxError",
     "evalue": "cannot assign to True (4052255167.py, line 1)",
     "output_type": "error",
     "traceback": [
      "\u001b[1;36m  Cell \u001b[1;32mIn[11], line 1\u001b[1;36m\u001b[0m\n\u001b[1;33m    True = 89\u001b[0m\n\u001b[1;37m    ^\u001b[0m\n\u001b[1;31mSyntaxError\u001b[0m\u001b[1;31m:\u001b[0m cannot assign to True\n"
     ]
    }
   ],
   "source": [
    "True = 89\n",
    "True"
   ]
  },
  {
   "cell_type": "code",
   "execution_count": 13,
   "id": "a721351c",
   "metadata": {},
   "outputs": [
    {
     "data": {
      "text/plain": [
       "'workshop'"
      ]
     },
     "execution_count": 13,
     "metadata": {},
     "output_type": "execute_result"
    }
   ],
   "source": [
    "first_name = \"workshop\"\n",
    "first_name"
   ]
  },
  {
   "cell_type": "code",
   "execution_count": 14,
   "id": "fe601d14",
   "metadata": {},
   "outputs": [
    {
     "name": "stdout",
     "output_type": "stream",
     "text": [
      "66\n"
     ]
    }
   ],
   "source": [
    "_a = 66\n",
    "print(_a)"
   ]
  },
  {
   "cell_type": "code",
   "execution_count": 15,
   "id": "1b2f03b0",
   "metadata": {},
   "outputs": [
    {
     "data": {
      "text/plain": [
       "56"
      ]
     },
     "execution_count": 15,
     "metadata": {},
     "output_type": "execute_result"
    }
   ],
   "source": [
    "a123 = 56\n",
    "a123"
   ]
  },
  {
   "cell_type": "code",
   "execution_count": 16,
   "id": "4a96bd70",
   "metadata": {
    "collapsed": true
   },
   "outputs": [
    {
     "ename": "SyntaxError",
     "evalue": "invalid decimal literal (4149741486.py, line 1)",
     "output_type": "error",
     "traceback": [
      "\u001b[1;36m  Cell \u001b[1;32mIn[16], line 1\u001b[1;36m\u001b[0m\n\u001b[1;33m    3a = 78\u001b[0m\n\u001b[1;37m    ^\u001b[0m\n\u001b[1;31mSyntaxError\u001b[0m\u001b[1;31m:\u001b[0m invalid decimal literal\n"
     ]
    }
   ],
   "source": [
    "3a = 78\n",
    "3a"
   ]
  },
  {
   "cell_type": "markdown",
   "id": "6b1a2d81",
   "metadata": {},
   "source": [
    "# Datatypes\n",
    "    - int - 78634578465784783874\n",
    "    - float - 6.7,2.9.7.8\n",
    "    - str-  \"python\",\"workshop\",\"37846\",\"abc123\"\n",
    "    - bool - True,False"
   ]
  },
  {
   "cell_type": "code",
   "execution_count": 20,
   "id": "a68b6bc0",
   "metadata": {
    "collapsed": true
   },
   "outputs": [
    {
     "name": "stdout",
     "output_type": "stream",
     "text": [
      "Enter any number: 8\n",
      "8\n"
     ]
    }
   ],
   "source": [
    "# integer\n",
    "n = int(input('Enter any number: '))\n",
    "print(n)"
   ]
  },
  {
   "cell_type": "code",
   "execution_count": 21,
   "id": "ad5246e4",
   "metadata": {
    "collapsed": true
   },
   "outputs": [
    {
     "name": "stdout",
     "output_type": "stream",
     "text": [
      "7826347837\n",
      "7826347837.0\n"
     ]
    }
   ],
   "source": [
    "# float\n",
    "f = float(input())\n",
    "print(f)"
   ]
  },
  {
   "cell_type": "code",
   "execution_count": 22,
   "id": "9b3dab5d",
   "metadata": {},
   "outputs": [
    {
     "name": "stdout",
     "output_type": "stream",
     "text": [
      "hkdfjukhdjkf\n",
      "hkdfjukhdjkf\n"
     ]
    }
   ],
   "source": [
    "# str\n",
    "s = input()\n",
    "print(s)"
   ]
  },
  {
   "cell_type": "code",
   "execution_count": 23,
   "id": "20de6b50",
   "metadata": {},
   "outputs": [
    {
     "name": "stdout",
     "output_type": "stream",
     "text": [
      "7823jkskdhfjkdh\n",
      "7823jkskdhfjkdh\n"
     ]
    }
   ],
   "source": [
    "s1 = str(input())\n",
    "print(s1)"
   ]
  },
  {
   "cell_type": "markdown",
   "id": "50c75237",
   "metadata": {},
   "source": [
    "# Type Conversions\n",
    "    - int --- int(variable_name)\n",
    "    - float --- float(variable_name)\n",
    "    - str --- str(variable_name)"
   ]
  },
  {
   "cell_type": "code",
   "execution_count": 25,
   "id": "4686fedc",
   "metadata": {
    "collapsed": true
   },
   "outputs": [
    {
     "name": "stdout",
     "output_type": "stream",
     "text": [
      "34 <class 'int'>\n",
      "34.0 <class 'float'>\n"
     ]
    }
   ],
   "source": [
    "# integer to float\n",
    "a = 34\n",
    "print(a,type(a))\n",
    "f = float(a)\n",
    "print(f,type(f))"
   ]
  },
  {
   "cell_type": "code",
   "execution_count": 29,
   "id": "addb1f36",
   "metadata": {
    "collapsed": true
   },
   "outputs": [
    {
     "name": "stdout",
     "output_type": "stream",
     "text": [
      "8.9 <class 'float'>\n",
      "8 <class 'int'>\n"
     ]
    }
   ],
   "source": [
    "# float to integer\n",
    "a1 = 8.9\n",
    "print(a1,type(a1))\n",
    "h = int(a1)\n",
    "print(h,type(h))"
   ]
  },
  {
   "cell_type": "code",
   "execution_count": 30,
   "id": "4cb84ab1",
   "metadata": {
    "collapsed": true
   },
   "outputs": [
    {
     "name": "stdout",
     "output_type": "stream",
     "text": [
      "89 <class 'int'>\n",
      "89 <class 'str'>\n"
     ]
    }
   ],
   "source": [
    "# int to str\n",
    "h = 89\n",
    "print(h,type(h))\n",
    "h1 = str(h)\n",
    "print(h1,type(h1))"
   ]
  },
  {
   "cell_type": "markdown",
   "id": "f6aec449",
   "metadata": {},
   "source": [
    "### Operators\n",
    "- Arithmetic --->   +,-,*,/,%,//(floor),power(**)\n",
    "- Assignment  --->  =,+=,-=,*=,/=,.........\n",
    "- Comparision/Relational :-   ==,!=,<,>,<=,>=\n",
    "- Logical   :-   and,or,not\n",
    "- Bitwise   :-  &,|,^(xor),<<,>>\n",
    "- Membership  :-  in,not in\n",
    "- Identity :-  is,is not"
   ]
  },
  {
   "cell_type": "code",
   "execution_count": 39,
   "id": "dedec4d3",
   "metadata": {
    "collapsed": true
   },
   "outputs": [
    {
     "name": "stdout",
     "output_type": "stream",
     "text": [
      "15 -1 56\n",
      "0.875 7 0 2 125\n"
     ]
    }
   ],
   "source": [
    "#  Arithmetic --->   +,-,*,/,%,//(floor),power(**)\n",
    "a,b = 7,8\n",
    "print(a+b,a-b,a*b)\n",
    "print(a/b,a%b,a//b,5//2,5**3)"
   ]
  },
  {
   "cell_type": "code",
   "execution_count": 40,
   "id": "ed945c3d",
   "metadata": {
    "collapsed": true
   },
   "outputs": [
    {
     "name": "stdout",
     "output_type": "stream",
     "text": [
      "8\n"
     ]
    }
   ],
   "source": [
    "# - Assignment  --->  =,+=,-=,*=,/=,.........\n",
    "x = 8\n",
    "print(x)"
   ]
  },
  {
   "cell_type": "code",
   "execution_count": 42,
   "id": "0ee1a441",
   "metadata": {},
   "outputs": [
    {
     "name": "stdout",
     "output_type": "stream",
     "text": [
      "7\n"
     ]
    }
   ],
   "source": [
    "x = 5\n",
    "x += 2  # x = x+2=5+2=7\n",
    "print(x)"
   ]
  },
  {
   "cell_type": "code",
   "execution_count": 43,
   "id": "70c8f3ef",
   "metadata": {
    "collapsed": true
   },
   "outputs": [
    {
     "name": "stdout",
     "output_type": "stream",
     "text": [
      "1\n"
     ]
    }
   ],
   "source": [
    "y = 8\n",
    "y -= x\n",
    "print(y)"
   ]
  },
  {
   "cell_type": "code",
   "execution_count": 44,
   "id": "d6c905f2",
   "metadata": {
    "collapsed": true
   },
   "outputs": [
    {
     "name": "stdout",
     "output_type": "stream",
     "text": [
      "8\n"
     ]
    }
   ],
   "source": [
    "z = 8\n",
    "z *= y\n",
    "print(z)"
   ]
  },
  {
   "cell_type": "code",
   "execution_count": 49,
   "id": "271ed4c2",
   "metadata": {
    "collapsed": true
   },
   "outputs": [
    {
     "name": "stdout",
     "output_type": "stream",
     "text": [
      "False False True\n",
      "True False\n"
     ]
    }
   ],
   "source": [
    "# Comparision/Relational\n",
    "a,b = 8,9\n",
    "print(a==b,a>b,a<b)\n",
    "print(a<=b,a>=b)"
   ]
  },
  {
   "cell_type": "code",
   "execution_count": 52,
   "id": "8d52d95b",
   "metadata": {
    "collapsed": true
   },
   "outputs": [
    {
     "name": "stdout",
     "output_type": "stream",
     "text": [
      "False\n",
      "False\n"
     ]
    }
   ],
   "source": [
    "# Logical :-  and,or,not\n",
    "x,y = 9,7\n",
    "print(x>y and x==y)  # T and f---- f\n",
    "print(x<y and x!=y)  # f and t--- f"
   ]
  },
  {
   "cell_type": "code",
   "execution_count": 53,
   "id": "e4f48662",
   "metadata": {
    "collapsed": true
   },
   "outputs": [
    {
     "name": "stdout",
     "output_type": "stream",
     "text": [
      "True\n",
      "True\n"
     ]
    }
   ],
   "source": [
    "print(x>y or x==y)  # t OR f---- t\n",
    "print(x<y or x!=y)  # f OR t--- t"
   ]
  },
  {
   "cell_type": "code",
   "execution_count": 55,
   "id": "80c198ea",
   "metadata": {
    "collapsed": true
   },
   "outputs": [
    {
     "name": "stdout",
     "output_type": "stream",
     "text": [
      "False\n"
     ]
    }
   ],
   "source": [
    "print(not(x>y))"
   ]
  },
  {
   "cell_type": "code",
   "execution_count": null,
   "id": "ca63fff6",
   "metadata": {},
   "outputs": [],
   "source": [
    "# Bitwise operators:-   &,|,^,<<,>>\n"
   ]
  },
  {
   "cell_type": "code",
   "execution_count": 57,
   "id": "2eaf2d0c",
   "metadata": {},
   "outputs": [
    {
     "data": {
      "text/plain": [
       "'0b10100'"
      ]
     },
     "execution_count": 57,
     "metadata": {},
     "output_type": "execute_result"
    }
   ],
   "source": [
    "bin(20)"
   ]
  },
  {
   "cell_type": "code",
   "execution_count": 59,
   "id": "31525cb8",
   "metadata": {
    "collapsed": true
   },
   "outputs": [
    {
     "name": "stdout",
     "output_type": "stream",
     "text": [
      "0 30 30\n"
     ]
    }
   ],
   "source": [
    "a,b= 10,20\n",
    "print(a&b,a|b,a^b)"
   ]
  },
  {
   "cell_type": "code",
   "execution_count": 68,
   "id": "6016e84e",
   "metadata": {
    "collapsed": true
   },
   "outputs": [
    {
     "name": "stdout",
     "output_type": "stream",
     "text": [
      "True False False\n",
      "False True True\n",
      "True False True\n"
     ]
    }
   ],
   "source": [
    "# Membership :-   in,not in\n",
    "s = \"workshop\"\n",
    "print(\"s\" in s,\"v\" in s,\"u\" in s)\n",
    "print(\"s\" not in s,\"k\" in s,\"z\" not in s)\n",
    "print(\"shop\" in s,\"wrk\" in s,\"work\" in s)"
   ]
  },
  {
   "cell_type": "code",
   "execution_count": 74,
   "id": "4e5334b4",
   "metadata": {
    "collapsed": true
   },
   "outputs": [
    {
     "name": "stdout",
     "output_type": "stream",
     "text": [
      "140723491083240 2197358822576\n",
      "False True\n"
     ]
    }
   ],
   "source": [
    "#### Identity operators\n",
    "d,f = 7,7.0\n",
    "print(id(d),id(f))\n",
    "print(d is f,d is not f)"
   ]
  },
  {
   "cell_type": "markdown",
   "id": "5847f923",
   "metadata": {},
   "source": [
    "### Conditional Statements\n",
    "- if,if else,elif,nested if"
   ]
  },
  {
   "cell_type": "markdown",
   "id": "6a39dfde",
   "metadata": {},
   "source": [
    "- Syntax for if statement\n",
    "----------------------------\n",
    "if(condition):\n",
    "    statements"
   ]
  },
  {
   "cell_type": "markdown",
   "id": "d8d91cee",
   "metadata": {},
   "source": [
    "- Syntax for if else statement\n",
    "------------------------------------\n",
    "if(condition):\n",
    "    statements\n",
    "else:\n",
    "    statements"
   ]
  },
  {
   "cell_type": "code",
   "execution_count": null,
   "id": "fdfa1c5a",
   "metadata": {},
   "outputs": [],
   "source": [
    "- Syntax for elif statement\n",
    "---------------------------\n",
    "if(condition1):\n",
    "    statements\n",
    "elif(condition2):\n",
    "    statements\n",
    "elif(condition3):\n",
    "    statements\n",
    ".........\n",
    "else:\n",
    "    statements  "
   ]
  },
  {
   "cell_type": "code",
   "execution_count": null,
   "id": "79f8ab99",
   "metadata": {},
   "outputs": [],
   "source": [
    "- Syntax for nested if statement\n",
    "-------------------------------------\n",
    "if(condition):\n",
    "    if(condition):\n",
    "        statements\n",
    "    else:\n",
    "        statements\n",
    "else:\n",
    "    statements"
   ]
  },
  {
   "cell_type": "code",
   "execution_count": 77,
   "id": "0bfe07c3",
   "metadata": {
    "collapsed": true
   },
   "outputs": [
    {
     "name": "stdout",
     "output_type": "stream",
     "text": [
      "9\n",
      "odd\n"
     ]
    }
   ],
   "source": [
    "# i/p: 9\n",
    "# o/p: odd\n",
    "n = int(input())\n",
    "if(n%2==1):\n",
    "    print(\"odd\")"
   ]
  },
  {
   "cell_type": "code",
   "execution_count": 79,
   "id": "49a4f6ed",
   "metadata": {
    "collapsed": true
   },
   "outputs": [
    {
     "name": "stdout",
     "output_type": "stream",
     "text": [
      "6\n",
      "even\n"
     ]
    }
   ],
   "source": [
    "n = int(input())\n",
    "if(n%2==1):\n",
    "    print(\"odd\")\n",
    "else:\n",
    "    print(\"even\")"
   ]
  },
  {
   "cell_type": "code",
   "execution_count": 82,
   "id": "4b6ddc9f",
   "metadata": {
    "collapsed": true
   },
   "outputs": [
    {
     "name": "stdout",
     "output_type": "stream",
     "text": [
      "45\n",
      "45 is not divisible by 5&10\n"
     ]
    }
   ],
   "source": [
    "# 50\n",
    "n1 = int(input())\n",
    "if(n1%10==0 and n1%5==0):\n",
    "    print(n1,\"is divisible by 5&10\")\n",
    "else:\n",
    "    print(n1,'is not divisible by 5&10')"
   ]
  },
  {
   "cell_type": "code",
   "execution_count": 85,
   "id": "8e2e1b4e",
   "metadata": {
    "collapsed": true
   },
   "outputs": [
    {
     "name": "stdout",
     "output_type": "stream",
     "text": [
      "9\n",
      "Invalid week\n"
     ]
    }
   ],
   "source": [
    "week = int(input())\n",
    "if(week==0):\n",
    "    print(\"Sunday\")\n",
    "elif(week==1):\n",
    "    print(\"Monday\")\n",
    "elif(week==2):\n",
    "    print(\"Tuesday\")\n",
    "elif(week==3):\n",
    "    print(\"Wednesday\")\n",
    "elif(week==4):\n",
    "    print(\"Thursday\")\n",
    "elif(week==5):\n",
    "    print(\"Friday\")\n",
    "elif(week==6):\n",
    "    print(\"Saturday\")\n",
    "else:\n",
    "    print(\"Invalid week\")"
   ]
  },
  {
   "cell_type": "code",
   "execution_count": null,
   "id": "5840262e",
   "metadata": {},
   "outputs": [],
   "source": [
    "# i/p: 6\n",
    "       even\n",
    "       10> ---> cube\n",
    "       10<----  square--- 36\n",
    "    \n",
    "# i/p: 5\n",
    "      odd"
   ]
  },
  {
   "cell_type": "code",
   "execution_count": 88,
   "id": "6aecc824",
   "metadata": {
    "collapsed": true
   },
   "outputs": [
    {
     "name": "stdout",
     "output_type": "stream",
     "text": [
      "12\n",
      "even\n",
      "1728\n"
     ]
    }
   ],
   "source": [
    "n = int(input())\n",
    "if(n%2==0):\n",
    "    print(\"even\")\n",
    "    if(n>10):\n",
    "        print(n**3)\n",
    "    else:\n",
    "        print(n**2)\n",
    "else:\n",
    "    print(\"odd\")"
   ]
  },
  {
   "cell_type": "markdown",
   "id": "b7d3da33",
   "metadata": {},
   "source": [
    "# Loops\n",
    "    - for \n",
    "    - while "
   ]
  },
  {
   "cell_type": "code",
   "execution_count": null,
   "id": "d3b9dfdb",
   "metadata": {},
   "outputs": [],
   "source": [
    "- Syntax for for loop\n",
    "------------------------------\n",
    "for value in range(start,end,step_count):\n",
    "    statments"
   ]
  },
  {
   "cell_type": "code",
   "execution_count": 92,
   "id": "d23d3264",
   "metadata": {
    "collapsed": true
   },
   "outputs": [
    {
     "name": "stdout",
     "output_type": "stream",
     "text": [
      "vanitha vanitha vanitha vanitha vanitha vanitha vanitha vanitha vanitha vanitha "
     ]
    }
   ],
   "source": [
    "# print your name 10 times\n",
    "for i in range(10):\n",
    "    print(\"vanitha\",end=' ')"
   ]
  },
  {
   "cell_type": "code",
   "execution_count": 102,
   "id": "e06ee04e",
   "metadata": {},
   "outputs": [
    {
     "name": "stdout",
     "output_type": "stream",
     "text": [
      "1 4 7 10 "
     ]
    }
   ],
   "source": [
    "# print 1 to 10 numbers\n",
    "for j in range(1,11,3):\n",
    "    print(j,end=' ')"
   ]
  },
  {
   "cell_type": "code",
   "execution_count": 99,
   "id": "8244c227",
   "metadata": {
    "collapsed": true
   },
   "outputs": [
    {
     "name": "stdout",
     "output_type": "stream",
     "text": [
      "10 8 6 4 2 "
     ]
    }
   ],
   "source": [
    "for j in range(10,0,-2):\n",
    "    print(j,end=' ')"
   ]
  },
  {
   "cell_type": "code",
   "execution_count": 103,
   "id": "f11de0b4",
   "metadata": {
    "collapsed": true
   },
   "outputs": [
    {
     "name": "stdout",
     "output_type": "stream",
     "text": [
      "55\n"
     ]
    }
   ],
   "source": [
    "# 1 to 10 numbers total\n",
    "t = 0\n",
    "for i in range(1,11):  # i=2\n",
    "    t = t+i  # 0+1=1 1+2=3+3=6+4=10+5=15+6=21+7=28......55\n",
    "print(t)"
   ]
  },
  {
   "cell_type": "code",
   "execution_count": 104,
   "id": "2c83627b",
   "metadata": {
    "collapsed": true
   },
   "outputs": [
    {
     "name": "stdout",
     "output_type": "stream",
     "text": [
      "10\n",
      "1 2 5 10 "
     ]
    }
   ],
   "source": [
    "# factors = 10= 1 2 5 10\n",
    "n = int(input())\n",
    "for i in range(1,n+1):\n",
    "    if(n%i==0):\n",
    "        print(i,end=' ')"
   ]
  },
  {
   "cell_type": "code",
   "execution_count": 108,
   "id": "8091d36c",
   "metadata": {
    "collapsed": true
   },
   "outputs": [
    {
     "name": "stdout",
     "output_type": "stream",
     "text": [
      "20\n",
      "Factors count= 6\n",
      "Not a prime\n"
     ]
    }
   ],
   "source": [
    "# prime number\n",
    "n = int(input())\n",
    "f_count=0\n",
    "for i in range(1,n+1):\n",
    "    if(n%i==0):\n",
    "        f_count=f_count+1                                        \n",
    "print(\"Factors count=\",f_count)\n",
    "if(f_count==2):\n",
    "    print(\"Prime number\")\n",
    "else:\n",
    "    print(\"Not a prime\")"
   ]
  },
  {
   "cell_type": "markdown",
   "id": "e91a3da1",
   "metadata": {},
   "source": [
    "### While loop\n",
    "   - It used to execute a block of statements repeatedly until \n",
    "      a particular condition is satisfied"
   ]
  },
  {
   "cell_type": "code",
   "execution_count": null,
   "id": "5d33ca84",
   "metadata": {},
   "outputs": [],
   "source": [
    "- syntax for while loop\n",
    "---------------------------\n",
    "intialization\n",
    "while(condition):\n",
    "    statements\n",
    "    increment/decrement"
   ]
  },
  {
   "cell_type": "code",
   "execution_count": 109,
   "id": "d8d868ae",
   "metadata": {
    "collapsed": true
   },
   "outputs": [
    {
     "name": "stdout",
     "output_type": "stream",
     "text": [
      "1 2 3 4 5 6 7 8 9 10 "
     ]
    }
   ],
   "source": [
    "# printing 1 to 10 numbers using while loop\n",
    "i = 1\n",
    "while(i<=10):\n",
    "    print(i,end=' ')\n",
    "    i=i+1"
   ]
  },
  {
   "cell_type": "code",
   "execution_count": 110,
   "id": "c6aa2d0c",
   "metadata": {
    "collapsed": true
   },
   "outputs": [
    {
     "name": "stdout",
     "output_type": "stream",
     "text": [
      "10 9 8 7 6 5 4 3 2 1 "
     ]
    }
   ],
   "source": [
    "# reverse\n",
    "i=10\n",
    "while(i>=1):\n",
    "    print(i,end=' ')\n",
    "    i=i-1"
   ]
  },
  {
   "cell_type": "code",
   "execution_count": 119,
   "id": "e0160955",
   "metadata": {
    "collapsed": true
   },
   "outputs": [
    {
     "name": "stdout",
     "output_type": "stream",
     "text": [
      "72836578236578\n",
      "87563287563827\n"
     ]
    }
   ],
   "source": [
    "# Reverse of any number\n",
    "n = int(input())\n",
    "rev = 0\n",
    "while(n>0):  # t\n",
    "    r = n%10 # 456%10=6  45%10=5 4%10=4\n",
    "    rev = rev*10+r # 0*10+6=6 6*10+5=65 65*10+4=654\n",
    "    n = n//10 # 456//10=45 45//10=4  4//10=0\n",
    "print(rev)"
   ]
  },
  {
   "cell_type": "code",
   "execution_count": 112,
   "id": "5831bf6c",
   "metadata": {},
   "outputs": [
    {
     "name": "stdout",
     "output_type": "stream",
     "text": [
      "25743545\n",
      "5 5 3 7 5 "
     ]
    }
   ],
   "source": [
    "# 98457\n",
    "#   957----> Print only odd digits\n",
    "n = int(input())\n",
    "while(n>0):\n",
    "    r = n%10\n",
    "    if(r%2==1):\n",
    "        print(r,end=' ')\n",
    "    n = n//10"
   ]
  },
  {
   "cell_type": "code",
   "execution_count": null,
   "id": "4f8d878c",
   "metadata": {},
   "outputs": [],
   "source": []
  }
 ],
 "metadata": {
  "kernelspec": {
   "display_name": "Python 3 (ipykernel)",
   "language": "python",
   "name": "python3"
  },
  "language_info": {
   "codemirror_mode": {
    "name": "ipython",
    "version": 3
   },
   "file_extension": ".py",
   "mimetype": "text/x-python",
   "name": "python",
   "nbconvert_exporter": "python",
   "pygments_lexer": "ipython3",
   "version": "3.11.5"
  }
 },
 "nbformat": 4,
 "nbformat_minor": 5
}
