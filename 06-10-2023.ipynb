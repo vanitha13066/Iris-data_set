{
 "cells": [
  {
   "cell_type": "markdown",
   "id": "6f394ae2",
   "metadata": {},
   "source": [
    "### Day Objectives\n",
    "    - Packages and modulus\n",
    "    - Comprehensions\n",
    "    - Functional Programming\n",
    "    - Numpy"
   ]
  },
  {
   "cell_type": "markdown",
   "id": "caac4676",
   "metadata": {},
   "source": [
    "- Packages and modulus\n",
    "    - Module --> Collection of functions is called a module\n",
    "           (or) collection of methods,classes,functions...etc\n",
    "    \n",
    "    - We have 2 types of modules\n",
    "        1.built-in module :-  random,math,print,os.......etc\n",
    "        2.User defined module:-   Developed by the users\n",
    "        \n",
    "  - package:-   collection of modules is called a package\n",
    "                  - Package has python code"
   ]
  },
  {
   "cell_type": "code",
   "execution_count": 1,
   "id": "a2f275f7",
   "metadata": {},
   "outputs": [],
   "source": [
    "import math"
   ]
  },
  {
   "cell_type": "code",
   "execution_count": 6,
   "id": "003abfb9",
   "metadata": {
    "collapsed": true
   },
   "outputs": [
    {
     "name": "stdout",
     "output_type": "stream",
     "text": [
      "5.0\n",
      "8\n",
      "7\n",
      "32.0\n"
     ]
    }
   ],
   "source": [
    "print(math.sqrt(25))\n",
    "print(math.ceil(7.8))\n",
    "print(math.floor(7.8))\n",
    "print(math.pow(2,5))"
   ]
  },
  {
   "cell_type": "code",
   "execution_count": 8,
   "id": "4b6998c0",
   "metadata": {},
   "outputs": [
    {
     "name": "stdout",
     "output_type": "stream",
     "text": [
      "3878\n"
     ]
    }
   ],
   "source": [
    "import random\n",
    "print(random.randint(100,10000))"
   ]
  },
  {
   "cell_type": "code",
   "execution_count": 11,
   "id": "bf584703",
   "metadata": {},
   "outputs": [],
   "source": [
    "from package import module"
   ]
  },
  {
   "cell_type": "code",
   "execution_count": 12,
   "id": "530209f5",
   "metadata": {},
   "outputs": [
    {
     "data": {
      "text/plain": [
       "9"
      ]
     },
     "execution_count": 12,
     "metadata": {},
     "output_type": "execute_result"
    }
   ],
   "source": [
    "module.add1(4,5)"
   ]
  },
  {
   "cell_type": "code",
   "execution_count": 13,
   "id": "d6ad0189",
   "metadata": {},
   "outputs": [],
   "source": [
    "from package1 import module1"
   ]
  },
  {
   "cell_type": "code",
   "execution_count": 14,
   "id": "d0e37e35",
   "metadata": {},
   "outputs": [
    {
     "data": {
      "text/plain": [
       "15"
      ]
     },
     "execution_count": 14,
     "metadata": {},
     "output_type": "execute_result"
    }
   ],
   "source": [
    "module1.add2(7,8)"
   ]
  },
  {
   "cell_type": "code",
   "execution_count": 15,
   "id": "3ef87ffd",
   "metadata": {
    "collapsed": true
   },
   "outputs": [
    {
     "data": {
      "text/plain": [
       "['__builtins__',\n",
       " '__cached__',\n",
       " '__doc__',\n",
       " '__file__',\n",
       " '__loader__',\n",
       " '__name__',\n",
       " '__package__',\n",
       " '__spec__',\n",
       " 'add1']"
      ]
     },
     "execution_count": 15,
     "metadata": {},
     "output_type": "execute_result"
    }
   ],
   "source": [
    "dir(module)"
   ]
  },
  {
   "cell_type": "markdown",
   "id": "bb87c1ab",
   "metadata": {},
   "source": [
    "### Comprehensions\n",
    "    -------------------------------------------------\n",
    "    - It is a process of creating new sequence from an\n",
    "       existed sequence\n",
    "\n",
    "    - Types of comprehensions\n",
    "    --------------------------------\n",
    "    - List comprehension\n",
    "    - Dictionary comprehension\n",
    "    - Set comprehension\n",
    "    \n",
    "    ## Syntax:-    [output_variable loop condition]\n",
    "    \n",
    "   - Advantages\n",
    "   ------------------\n",
    "   - Less code\n",
    "   - Less complexity"
   ]
  },
  {
   "cell_type": "code",
   "execution_count": 16,
   "id": "c02b0663",
   "metadata": {},
   "outputs": [
    {
     "name": "stdout",
     "output_type": "stream",
     "text": [
      "7 89 "
     ]
    }
   ],
   "source": [
    "# list comprehension\n",
    "li =  [2,6,7,8,12,89]\n",
    "for i in li:\n",
    "    if(i%2==1):\n",
    "        print(i,end=' ')"
   ]
  },
  {
   "cell_type": "code",
   "execution_count": 18,
   "id": "5e1e7884",
   "metadata": {},
   "outputs": [
    {
     "name": "stdout",
     "output_type": "stream",
     "text": [
      "[2, 6, 8, 12]\n"
     ]
    }
   ],
   "source": [
    "# using list comprehension\n",
    "g = [i for i in li if(i%2==0)]\n",
    "print(g)"
   ]
  },
  {
   "cell_type": "code",
   "execution_count": 19,
   "id": "a1b93239",
   "metadata": {
    "collapsed": true
   },
   "outputs": [
    {
     "name": "stdout",
     "output_type": "stream",
     "text": [
      "[0, 1, 2, 3, 4, 5, 6, 7, 8, 9, 10, 11, 12, 13, 14, 15, 16, 17, 18, 19]\n"
     ]
    }
   ],
   "source": [
    "# print natural numbers upto 20\n",
    "n = [i for i in range(20)]\n",
    "print(n)"
   ]
  },
  {
   "cell_type": "code",
   "execution_count": 20,
   "id": "b6edbefe",
   "metadata": {},
   "outputs": [
    {
     "name": "stdout",
     "output_type": "stream",
     "text": [
      "[0, 1, 4, 9, 16, 25, 36, 49, 64, 81, 100, 121, 144, 169, 196, 225, 256, 289, 324, 361]\n"
     ]
    }
   ],
   "source": [
    "n = [i**2 for i in range(20)]\n",
    "print(n)"
   ]
  },
  {
   "cell_type": "code",
   "execution_count": 21,
   "id": "c5aa3eee",
   "metadata": {},
   "outputs": [
    {
     "name": "stdout",
     "output_type": "stream",
     "text": [
      "{1: 1, 2: 4, 3: 9, 4: 16, 5: 25, 6: 36, 7: 49, 8: 64, 9: 81}\n"
     ]
    }
   ],
   "source": [
    "# Dictionary Comprehensions\n",
    "d = {i:i**2 for i in range(1,10)}\n",
    "print(d)"
   ]
  },
  {
   "cell_type": "code",
   "execution_count": 22,
   "id": "c3843182",
   "metadata": {},
   "outputs": [
    {
     "name": "stdout",
     "output_type": "stream",
     "text": [
      "{1: 1, 2: 8, 3: 27, 4: 64, 5: 125, 6: 216, 7: 343, 8: 512, 9: 729}\n"
     ]
    }
   ],
   "source": [
    "d = {i:i**3 for i in range(1,10)}\n",
    "print(d)"
   ]
  },
  {
   "cell_type": "code",
   "execution_count": 25,
   "id": "4c09ba69",
   "metadata": {
    "collapsed": true
   },
   "outputs": [
    {
     "name": "stdout",
     "output_type": "stream",
     "text": [
      "{89, 90}\n"
     ]
    }
   ],
   "source": [
    "d = {3:78,7:90,3:89}\n",
    "d1 = {i for i in d.values()}\n",
    "print(d1)"
   ]
  },
  {
   "cell_type": "code",
   "execution_count": 29,
   "id": "e1d32dcf",
   "metadata": {},
   "outputs": [
    {
     "name": "stdout",
     "output_type": "stream",
     "text": [
      "{50, 60, 90}\n"
     ]
    }
   ],
   "source": [
    "s1 = {67,44,89,34,90,50,60}\n",
    "s = set()\n",
    "for i in s1:\n",
    "    if(i%10==0):\n",
    "        s.add(i)\n",
    "print(s)"
   ]
  },
  {
   "cell_type": "code",
   "execution_count": 30,
   "id": "d556547a",
   "metadata": {},
   "outputs": [
    {
     "name": "stdout",
     "output_type": "stream",
     "text": [
      "{50, 60, 90}\n"
     ]
    }
   ],
   "source": [
    "g = {i for i in s1 if(i%10==0)}\n",
    "print(g)"
   ]
  },
  {
   "cell_type": "markdown",
   "id": "a953be82",
   "metadata": {},
   "source": [
    "### Functional Programming\n",
    "----------------------------------------\n",
    "   - It is used to create small functions\n",
    "   - We can call it as single line functions\n",
    "   - Anonymous functions\n",
    "    \n",
    "    - lambda()\n",
    "      - syntax:-    lambda arguments:condition\n",
    "      \n",
    "    - map()\n",
    "       - syntax:    map(function,sequence)\n",
    "    \n",
    "    - filter()\n",
    "        - syntax:-   filter(function,sequence)\n",
    "    "
   ]
  },
  {
   "cell_type": "code",
   "execution_count": 31,
   "id": "d50d798f",
   "metadata": {
    "collapsed": true
   },
   "outputs": [
    {
     "data": {
      "text/plain": [
       "11"
      ]
     },
     "execution_count": 31,
     "metadata": {},
     "output_type": "execute_result"
    }
   ],
   "source": [
    "# addition of 2 numbers using functions\n",
    "def add(a,b):\n",
    "    return a+b\n",
    "add(5,6)"
   ]
  },
  {
   "cell_type": "code",
   "execution_count": 34,
   "id": "9a6821cf",
   "metadata": {},
   "outputs": [
    {
     "data": {
      "text/plain": [
       "13"
      ]
     },
     "execution_count": 34,
     "metadata": {},
     "output_type": "execute_result"
    }
   ],
   "source": [
    "# using lambda\n",
    "d = (lambda a,b:a+b)\n",
    "d(6,7)"
   ]
  },
  {
   "cell_type": "code",
   "execution_count": 35,
   "id": "b681a869",
   "metadata": {
    "collapsed": true
   },
   "outputs": [
    {
     "data": {
      "text/plain": [
       "120"
      ]
     },
     "execution_count": 35,
     "metadata": {},
     "output_type": "execute_result"
    }
   ],
   "source": [
    "k = (lambda a,b,c:a*b*c)\n",
    "k(4,5,6)"
   ]
  },
  {
   "cell_type": "code",
   "execution_count": 37,
   "id": "3a9f6111",
   "metadata": {
    "collapsed": true
   },
   "outputs": [
    {
     "name": "stdout",
     "output_type": "stream",
     "text": [
      "[1, 9, 25, 64]\n"
     ]
    }
   ],
   "source": [
    "# map()\n",
    "def mul(a):\n",
    "    return a*a\n",
    "m = map(mul,[1,3,5,8])\n",
    "print(list(m))"
   ]
  },
  {
   "cell_type": "code",
   "execution_count": 38,
   "id": "12d331c2",
   "metadata": {
    "collapsed": true
   },
   "outputs": [
    {
     "data": {
      "text/plain": [
       "['RAJU', 'RAVI', 'RANI']"
      ]
     },
     "execution_count": 38,
     "metadata": {},
     "output_type": "execute_result"
    }
   ],
   "source": [
    "c = ['raju','ravi','rani']\n",
    "res = list(map(str.upper,c))\n",
    "res"
   ]
  },
  {
   "cell_type": "code",
   "execution_count": 40,
   "id": "fd040853",
   "metadata": {},
   "outputs": [
    {
     "name": "stdout",
     "output_type": "stream",
     "text": [
      "78 89 77 "
     ]
    }
   ],
   "source": [
    "# filter\n",
    "d = [45,78,11,89,23,77]\n",
    "def greater(d):\n",
    "    if(d>50):\n",
    "        return True\n",
    "    else:\n",
    "        return False\n",
    "n = filter(greater,d)\n",
    "for i in n:\n",
    "    print(i,end=' ')"
   ]
  },
  {
   "cell_type": "markdown",
   "id": "e746d165",
   "metadata": {},
   "source": [
    "##### Introduction to numpy\n",
    "-------------------------------------\n",
    "   - Numpy(Numerical python)\n",
    "   - Numpy is a python library used for working with arrays\n",
    "   - It is a fundamental package for scientific computing  in python\n",
    "   - It is used to create multi dimensional arrays\n",
    "      for fast operations\n",
    "   - Numpy arrays are stored at one continuous place\n",
    "      in memory\n",
    "   - Using numpy we can perform mathematical and logical \n",
    "       operations on arrays\n",
    "       \n",
    " - Adavantages\n",
    " --------------------------\n",
    " - Consumes less memory\n",
    " - fast as compared with python lists\n",
    " - convinent to use"
   ]
  },
  {
   "cell_type": "code",
   "execution_count": 41,
   "id": "8ed79aba",
   "metadata": {},
   "outputs": [],
   "source": [
    "import numpy"
   ]
  },
  {
   "cell_type": "code",
   "execution_count": 42,
   "id": "120523a7",
   "metadata": {},
   "outputs": [
    {
     "data": {
      "text/plain": [
       "'1.24.3'"
      ]
     },
     "execution_count": 42,
     "metadata": {},
     "output_type": "execute_result"
    }
   ],
   "source": [
    "numpy.__version__"
   ]
  },
  {
   "cell_type": "code",
   "execution_count": 43,
   "id": "87d310ef",
   "metadata": {
    "collapsed": true
   },
   "outputs": [
    {
     "ename": "TypeError",
     "evalue": "can only concatenate list (not \"int\") to list",
     "output_type": "error",
     "traceback": [
      "\u001b[1;31m---------------------------------------------------------------------------\u001b[0m",
      "\u001b[1;31mTypeError\u001b[0m                                 Traceback (most recent call last)",
      "Cell \u001b[1;32mIn[43], line 2\u001b[0m\n\u001b[0;32m      1\u001b[0m li \u001b[38;5;241m=\u001b[39m [\u001b[38;5;241m5\u001b[39m,\u001b[38;5;241m7\u001b[39m,\u001b[38;5;241m8\u001b[39m,\u001b[38;5;241m9\u001b[39m,\u001b[38;5;241m1\u001b[39m]\n\u001b[1;32m----> 2\u001b[0m li\u001b[38;5;241m+\u001b[39m\u001b[38;5;241m8\u001b[39m\n",
      "\u001b[1;31mTypeError\u001b[0m: can only concatenate list (not \"int\") to list"
     ]
    }
   ],
   "source": [
    "li = [5,7,8,9,1]\n",
    "li+8  # element wise addition not possible in the list"
   ]
  },
  {
   "cell_type": "code",
   "execution_count": 44,
   "id": "281907dc",
   "metadata": {},
   "outputs": [],
   "source": [
    "import numpy as np"
   ]
  },
  {
   "cell_type": "code",
   "execution_count": 45,
   "id": "5406c3fe",
   "metadata": {},
   "outputs": [
    {
     "data": {
      "text/plain": [
       "'1.24.3'"
      ]
     },
     "execution_count": 45,
     "metadata": {},
     "output_type": "execute_result"
    }
   ],
   "source": [
    "np.__version__"
   ]
  },
  {
   "cell_type": "markdown",
   "id": "5a319490",
   "metadata": {},
   "source": [
    "### Creating arrays\n",
    "    - array()\n",
    "       - 0-dimensional array \n",
    "       - 1- dimensional aray\n",
    "       -  2- dimensional array\n",
    "       -  3- dimensional array"
   ]
  },
  {
   "cell_type": "code",
   "execution_count": 48,
   "id": "2e48e5da",
   "metadata": {},
   "outputs": [
    {
     "name": "stdout",
     "output_type": "stream",
     "text": [
      "598\n"
     ]
    }
   ],
   "source": [
    "# Numpy methods \n",
    "print(len(dir(np)))"
   ]
  },
  {
   "cell_type": "code",
   "execution_count": 49,
   "id": "1508b778",
   "metadata": {},
   "outputs": [
    {
     "name": "stdout",
     "output_type": "stream",
     "text": [
      "3 <class 'numpy.ndarray'>\n"
     ]
    }
   ],
   "source": [
    "# 0- Dimensional array\n",
    "a = np.array(3)\n",
    "print(a,type(a))"
   ]
  },
  {
   "cell_type": "code",
   "execution_count": 50,
   "id": "4e3f62ac",
   "metadata": {
    "collapsed": true
   },
   "outputs": [
    {
     "name": "stdout",
     "output_type": "stream",
     "text": [
      "[ 1 23 78 90] <class 'numpy.ndarray'>\n"
     ]
    }
   ],
   "source": [
    "# 1- dimensional array\n",
    "a1 = np.array([1,23,78,90])\n",
    "print(a1,type(a1))"
   ]
  },
  {
   "cell_type": "code",
   "execution_count": 51,
   "id": "b3849f2e",
   "metadata": {
    "collapsed": true
   },
   "outputs": [
    {
     "data": {
      "text/plain": [
       "array([ 9, 31, 86, 98])"
      ]
     },
     "execution_count": 51,
     "metadata": {},
     "output_type": "execute_result"
    }
   ],
   "source": [
    "a1+8"
   ]
  },
  {
   "cell_type": "code",
   "execution_count": 52,
   "id": "41e5d1d8",
   "metadata": {
    "collapsed": true
   },
   "outputs": [
    {
     "name": "stdout",
     "output_type": "stream",
     "text": [
      "[[5 6 7]\n",
      " [7 3 9]] <class 'numpy.ndarray'>\n"
     ]
    }
   ],
   "source": [
    "# 2-dimensional array\n",
    "a3 = np.array([[5,6,7],[7,3,9]])\n",
    "print(a3,type(a3))"
   ]
  },
  {
   "cell_type": "code",
   "execution_count": 54,
   "id": "f6d96fa0",
   "metadata": {
    "collapsed": true
   },
   "outputs": [
    {
     "data": {
      "text/plain": [
       "array([[5, 6, 7],\n",
       "       [7, 3, 9]])"
      ]
     },
     "execution_count": 54,
     "metadata": {},
     "output_type": "execute_result"
    }
   ],
   "source": [
    "a3"
   ]
  },
  {
   "cell_type": "code",
   "execution_count": 57,
   "id": "09bbcfb6",
   "metadata": {
    "collapsed": true
   },
   "outputs": [
    {
     "name": "stdout",
     "output_type": "stream",
     "text": [
      "[5 6 7] [7 3 9]\n"
     ]
    }
   ],
   "source": [
    "print(a3[0],a3[1])"
   ]
  },
  {
   "cell_type": "code",
   "execution_count": 60,
   "id": "82247d59",
   "metadata": {
    "collapsed": true
   },
   "outputs": [
    {
     "name": "stdout",
     "output_type": "stream",
     "text": [
      "6 9\n"
     ]
    }
   ],
   "source": [
    "print(a3[0][1],a3[1][2])"
   ]
  },
  {
   "cell_type": "code",
   "execution_count": 61,
   "id": "c3797e23",
   "metadata": {
    "collapsed": true
   },
   "outputs": [
    {
     "name": "stdout",
     "output_type": "stream",
     "text": [
      "[[34 56 78]\n",
      " [45 22 78]\n",
      " [44 78 11]] <class 'numpy.ndarray'>\n"
     ]
    }
   ],
   "source": [
    "# 3-dimensional array\n",
    "a4 = np.array([[34,56,78],[45,22,78],[44,78,11]])\n",
    "print(a4,type(a4))"
   ]
  },
  {
   "cell_type": "code",
   "execution_count": 70,
   "id": "66b1ee03",
   "metadata": {
    "collapsed": true
   },
   "outputs": [
    {
     "name": "stdout",
     "output_type": "stream",
     "text": [
      "[[34 56 78]\n",
      " [45 22 78]\n",
      " [44 78 11]]\n",
      "(3, 3)\n",
      "2\n",
      "9\n",
      "int32\n",
      "4\n"
     ]
    }
   ],
   "source": [
    "# pre defined functions (or) built-in functions in numpy\n",
    "print(a4)\n",
    "print(a4.shape) # to get the no of rows and columns\n",
    "print(a4.ndim)  # To get dimensions\n",
    "print(a4.size)  # to get the no of elements in array\n",
    "print(a4.dtype)  # which datatype\n",
    "print(a4.itemsize) # howmany bytes-- int 4 bytes"
   ]
  },
  {
   "cell_type": "code",
   "execution_count": 71,
   "id": "2f0722c5",
   "metadata": {
    "collapsed": true
   },
   "outputs": [
    {
     "data": {
      "text/plain": [
       "array([5.+0.j, 6.+0.j, 7.+0.j, 3.+0.j])"
      ]
     },
     "execution_count": 71,
     "metadata": {},
     "output_type": "execute_result"
    }
   ],
   "source": [
    "# conversion of int to complex\n",
    "b = np.array([5,6,7,3],dtype='complex')\n",
    "b"
   ]
  },
  {
   "cell_type": "code",
   "execution_count": 72,
   "id": "d6e82fee",
   "metadata": {
    "collapsed": true
   },
   "outputs": [
    {
     "data": {
      "text/plain": [
       "array([5., 6., 7., 3.])"
      ]
     },
     "execution_count": 72,
     "metadata": {},
     "output_type": "execute_result"
    }
   ],
   "source": [
    "# conversion of int to float values\n",
    "b = np.array([5,6,7,3],dtype='float')\n",
    "b"
   ]
  },
  {
   "cell_type": "code",
   "execution_count": 74,
   "id": "2489d5c7",
   "metadata": {},
   "outputs": [
    {
     "name": "stdout",
     "output_type": "stream",
     "text": [
      "[5.6 8.9 2.8] <class 'numpy.ndarray'> float64\n"
     ]
    }
   ],
   "source": [
    "b1 = np.array([5.6,8.9,2.8])\n",
    "print(b1,type(b1),b1.dtype)"
   ]
  },
  {
   "cell_type": "code",
   "execution_count": 82,
   "id": "fb962e3f",
   "metadata": {
    "collapsed": true
   },
   "outputs": [
    {
     "name": "stdout",
     "output_type": "stream",
     "text": [
      "[45 78 11 78 88]\n",
      "88 11 300 4 2\n"
     ]
    }
   ],
   "source": [
    "# argmax()--> It prints higest value index\n",
    "# argmin()--> It prints lowest value index\n",
    "n = np.array([45,78,11,78,88])\n",
    "print(n)\n",
    "print(n.max(),n.min(),n.sum(),n.argmax(),n.argmin())"
   ]
  },
  {
   "cell_type": "code",
   "execution_count": 83,
   "id": "eba9e732",
   "metadata": {},
   "outputs": [
    {
     "name": "stdout",
     "output_type": "stream",
     "text": [
      "[45 78 11 78] <class 'numpy.ndarray'>\n"
     ]
    }
   ],
   "source": [
    "# Creating arrays using tuple\n",
    "k = np.array((45,78,11,78))\n",
    "print(k,type(k))"
   ]
  },
  {
   "cell_type": "code",
   "execution_count": 85,
   "id": "2789e7ba",
   "metadata": {
    "collapsed": true
   },
   "outputs": [
    {
     "name": "stdout",
     "output_type": "stream",
     "text": [
      "{2: 78, 9: 78, 'a': 'b'} <class 'numpy.ndarray'>\n"
     ]
    }
   ],
   "source": [
    "# creating array using dictionary\n",
    "k1 = np.array({2:78,9:67,\"a\":\"b\",9:78})\n",
    "print(k1,type(k1))"
   ]
  },
  {
   "cell_type": "code",
   "execution_count": 86,
   "id": "8a335843",
   "metadata": {
    "collapsed": true
   },
   "outputs": [
    {
     "name": "stdout",
     "output_type": "stream",
     "text": [
      "[0 1 2 3 4 5 6 7 8 9]\n"
     ]
    }
   ],
   "source": [
    "# numpy array using range() function\n",
    "n = np.array(range(10))\n",
    "print(n)"
   ]
  },
  {
   "cell_type": "code",
   "execution_count": 87,
   "id": "10f6078f",
   "metadata": {
    "collapsed": true
   },
   "outputs": [
    {
     "name": "stdout",
     "output_type": "stream",
     "text": [
      "[10 11 12 13 14 15 16 17 18 19 20 21 22 23 24 25 26 27 28 29] <class 'numpy.ndarray'>\n"
     ]
    }
   ],
   "source": [
    "n1 = np.array(range(10,30))\n",
    "print(n1,type(n1))"
   ]
  },
  {
   "cell_type": "code",
   "execution_count": 88,
   "id": "951cfed8",
   "metadata": {
    "collapsed": true
   },
   "outputs": [
    {
     "name": "stdout",
     "output_type": "stream",
     "text": [
      "[10 13 16 19 22 25 28] <class 'numpy.ndarray'>\n"
     ]
    }
   ],
   "source": [
    "# range with skip count\n",
    "n1 = np.array(range(10,30,3))\n",
    "print(n1,type(n1))"
   ]
  },
  {
   "cell_type": "code",
   "execution_count": 4,
   "id": "e2d09623",
   "metadata": {
    "collapsed": true
   },
   "outputs": [
    {
     "name": "stdout",
     "output_type": "stream",
     "text": [
      "[2.5 3.5 4.5 5.5 6.5 7.5 8.5]\n"
     ]
    }
   ],
   "source": [
    "# arange()\n",
    "import numpy as np\n",
    "n2 = np.array(np.arange(2.5,9.5))\n",
    "print(n2)"
   ]
  },
  {
   "cell_type": "code",
   "execution_count": 10,
   "id": "cb35cf41",
   "metadata": {
    "collapsed": true
   },
   "outputs": [
    {
     "name": "stdout",
     "output_type": "stream",
     "text": [
      "[ 1  2  3  4  5  6  7  8  9 10 11 12 13 14 15 16 17 18 19 20 21 22 23 24\n",
      " 25 26 27 28 29 30 31 32 33 34 35 36 37 38 39 40 41 42 43 44 45 46 47 48\n",
      " 49 50 51 52 53 54 55 56 57 58 59 60 61 62 63 64 65 66 67 68 69 70 71 72\n",
      " 73 74 75 76 77 78 79 80 81 82 83 84 85 86 87 88 89 90 91 92 93 94 95 96\n",
      " 97 98 99]\n"
     ]
    }
   ],
   "source": [
    "# range()\n",
    "import numpy as np\n",
    "n8 = np.array(range(1,100))\n",
    "print(n8)"
   ]
  },
  {
   "cell_type": "code",
   "execution_count": 12,
   "id": "2bbecde3",
   "metadata": {
    "collapsed": true
   },
   "outputs": [
    {
     "name": "stdout",
     "output_type": "stream",
     "text": [
      "[10.  12.5 15.  17.5 20. ]\n"
     ]
    }
   ],
   "source": [
    "# linspace()\n",
    "c2 = np.linspace(10,20,5)\n",
    "print(c2)"
   ]
  },
  {
   "cell_type": "code",
   "execution_count": 13,
   "id": "f49f3524",
   "metadata": {
    "collapsed": true
   },
   "outputs": [
    {
     "name": "stdout",
     "output_type": "stream",
     "text": [
      "[10 12 15 17 20]\n"
     ]
    }
   ],
   "source": [
    "# linspace()\n",
    "c2 = np.linspace(10,20,5,dtype=int)\n",
    "print(c2)"
   ]
  },
  {
   "cell_type": "code",
   "execution_count": 14,
   "id": "6fcacf3f",
   "metadata": {
    "collapsed": true
   },
   "outputs": [
    {
     "data": {
      "text/plain": [
       "array([4., 5., 6., 1., 8.])"
      ]
     },
     "execution_count": 14,
     "metadata": {},
     "output_type": "execute_result"
    }
   ],
   "source": [
    "# To change the data type\n",
    "# int to float\n",
    "h = np.array([4,5,6,1,8],dtype=float)\n",
    "h"
   ]
  },
  {
   "cell_type": "code",
   "execution_count": 15,
   "id": "faf10779",
   "metadata": {
    "collapsed": true
   },
   "outputs": [
    {
     "name": "stdout",
     "output_type": "stream",
     "text": [
      "[2 6 1 5]\n"
     ]
    }
   ],
   "source": [
    "# float to int\n",
    "h1 = np.array([2.4,6.7,1.8,5.8],dtype=int)\n",
    "print(h1)"
   ]
  },
  {
   "cell_type": "code",
   "execution_count": 27,
   "id": "e2b8b943",
   "metadata": {
    "collapsed": true
   },
   "outputs": [
    {
     "name": "stdout",
     "output_type": "stream",
     "text": [
      "[0. 0. 0. 0. 0.]\n",
      "[[0 0 0 0]\n",
      " [0 0 0 0]\n",
      " [0 0 0 0]]\n"
     ]
    }
   ],
   "source": [
    "# Array intialization\n",
    "# zero's method\n",
    "a = np.zeros(5)\n",
    "print(a)\n",
    "a1 = np.zeros((3,4),dtype=int)\n",
    "print(a1)"
   ]
  },
  {
   "cell_type": "code",
   "execution_count": 26,
   "id": "6153a644",
   "metadata": {
    "collapsed": true
   },
   "outputs": [
    {
     "name": "stdout",
     "output_type": "stream",
     "text": [
      "[1. 1. 1. 1. 1.]\n",
      "[[1 1 1 1]\n",
      " [1 1 1 1]\n",
      " [1 1 1 1]]\n"
     ]
    }
   ],
   "source": [
    "# one's method\n",
    "a = np.ones(5)\n",
    "print(a)\n",
    "a1 = np.ones((3,4),dtype=int)\n",
    "print(a1)"
   ]
  },
  {
   "cell_type": "code",
   "execution_count": 25,
   "id": "ca5da86c",
   "metadata": {
    "collapsed": true
   },
   "outputs": [
    {
     "name": "stdout",
     "output_type": "stream",
     "text": [
      "[1. 1. 1. 1. 1.]\n",
      "[[1 1 1 1 1]\n",
      " [1 1 1 1 1]\n",
      " [1 1 1 1 1]]\n"
     ]
    }
   ],
   "source": [
    "a = np.ones(5)\n",
    "print(a)\n",
    "a1 = np.ones((3,5),dtype=int)\n",
    "print(a1)"
   ]
  },
  {
   "cell_type": "code",
   "execution_count": 28,
   "id": "4c26197f",
   "metadata": {
    "collapsed": true
   },
   "outputs": [
    {
     "name": "stdout",
     "output_type": "stream",
     "text": [
      "[[1. 0. 0. 0. 0.]\n",
      " [0. 1. 0. 0. 0.]\n",
      " [0. 0. 1. 0. 0.]\n",
      " [0. 0. 0. 1. 0.]\n",
      " [0. 0. 0. 0. 1.]]\n"
     ]
    }
   ],
   "source": [
    "# print identity matrix\n",
    "print(np.eye(5))"
   ]
  },
  {
   "cell_type": "code",
   "execution_count": 30,
   "id": "c8c41906",
   "metadata": {
    "collapsed": true
   },
   "outputs": [
    {
     "name": "stdout",
     "output_type": "stream",
     "text": [
      "[[1 0 0 0 0]\n",
      " [0 1 0 0 0]\n",
      " [0 0 1 0 0]\n",
      " [0 0 0 1 0]\n",
      " [0 0 0 0 1]]\n"
     ]
    }
   ],
   "source": [
    "print(np.eye(5,dtype=int))"
   ]
  },
  {
   "cell_type": "code",
   "execution_count": 31,
   "id": "6a72d5d4",
   "metadata": {
    "collapsed": true
   },
   "outputs": [
    {
     "data": {
      "text/plain": [
       "array([[3, 0, 0],\n",
       "       [0, 4, 0],\n",
       "       [0, 0, 5]])"
      ]
     },
     "execution_count": 31,
     "metadata": {},
     "output_type": "execute_result"
    }
   ],
   "source": [
    "# 3,4,5 as diagonal values\n",
    "np.diag([3,4,5])"
   ]
  },
  {
   "cell_type": "code",
   "execution_count": 33,
   "id": "1b330fe4",
   "metadata": {
    "collapsed": true
   },
   "outputs": [
    {
     "data": {
      "text/plain": [
       "array([[1, 0, 0],\n",
       "       [0, 1, 0],\n",
       "       [0, 0, 1]])"
      ]
     },
     "execution_count": 33,
     "metadata": {},
     "output_type": "execute_result"
    }
   ],
   "source": [
    "# Another method to print identity matrix\n",
    "n = np.identity(3,dtype=int)\n",
    "n"
   ]
  },
  {
   "cell_type": "code",
   "execution_count": 35,
   "id": "076cd9ab",
   "metadata": {
    "collapsed": true
   },
   "outputs": [
    {
     "data": {
      "text/plain": [
       "array([[34,  0,  0,  0,  0],\n",
       "       [ 0, 67,  0,  0,  0],\n",
       "       [ 0,  0, 89,  0,  0],\n",
       "       [ 0,  0,  0, 12,  0],\n",
       "       [ 0,  0,  0,  0, 78]])"
      ]
     },
     "execution_count": 35,
     "metadata": {},
     "output_type": "execute_result"
    }
   ],
   "source": [
    "# diagonal values\n",
    "np.diag([34,67,89,12,78])"
   ]
  },
  {
   "cell_type": "code",
   "execution_count": 4,
   "id": "881d69f9",
   "metadata": {
    "collapsed": true
   },
   "outputs": [
    {
     "name": "stdout",
     "output_type": "stream",
     "text": [
      "[7 7 7 7]\n",
      "[8 8 8 8 8 8 8 8 8 8]\n",
      "[6 6 6 6 6 6 6 6 6 6 6 6 6 6 6 6 6 6 6 6]\n"
     ]
    }
   ],
   "source": [
    "# full()\n",
    "# 1-d array\n",
    "import numpy as np\n",
    "print(np.full(4,7))\n",
    "print(np.full(10,8))\n",
    "print(np.full(20,6))"
   ]
  },
  {
   "cell_type": "code",
   "execution_count": 8,
   "id": "5bcb1d66",
   "metadata": {
    "collapsed": true
   },
   "outputs": [
    {
     "name": "stdout",
     "output_type": "stream",
     "text": [
      "[[3 3]\n",
      " [3 3]]\n",
      "[[4 4 4]\n",
      " [4 4 4]\n",
      " [4 4 4]]\n"
     ]
    }
   ],
   "source": [
    "# 2-d array\n",
    "print(np.full((2,2),3))\n",
    "print(np.full((3,3),4))"
   ]
  },
  {
   "cell_type": "code",
   "execution_count": 9,
   "id": "fdef0b1e",
   "metadata": {
    "collapsed": true
   },
   "outputs": [
    {
     "name": "stdout",
     "output_type": "stream",
     "text": [
      "[[3 3]\n",
      " [3 3]\n",
      " [3 3]\n",
      " [3 3]]\n"
     ]
    }
   ],
   "source": [
    "# modify the values\n",
    "a = np.full((4,2),3)\n",
    "print(a)"
   ]
  },
  {
   "cell_type": "code",
   "execution_count": 12,
   "id": "6fa8c60f",
   "metadata": {
    "collapsed": true
   },
   "outputs": [
    {
     "name": "stdout",
     "output_type": "stream",
     "text": [
      "[[ 3  3]\n",
      " [ 7  7]\n",
      " [12 12]\n",
      " [ 3  3]]\n"
     ]
    }
   ],
   "source": [
    "a[1]=7\n",
    "a[2]=12\n",
    "print(a)"
   ]
  },
  {
   "cell_type": "code",
   "execution_count": 13,
   "id": "e713bdbb",
   "metadata": {
    "collapsed": true
   },
   "outputs": [
    {
     "name": "stdout",
     "output_type": "stream",
     "text": [
      "[[ 3  3]\n",
      " [ 7  7]\n",
      " [12 15]\n",
      " [ 3  3]]\n"
     ]
    }
   ],
   "source": [
    "a[2][1]=15\n",
    "print(a)"
   ]
  },
  {
   "cell_type": "code",
   "execution_count": 15,
   "id": "e5ffc6d9",
   "metadata": {
    "collapsed": true
   },
   "outputs": [
    {
     "name": "stdout",
     "output_type": "stream",
     "text": [
      "[[34 56 78 11]\n",
      " [45 78 22 89]]\n",
      "2\n"
     ]
    }
   ],
   "source": [
    "# 2-d array\n",
    "li1 = [34,56,78,11]\n",
    "li2 = [45,78,22,89]\n",
    "b = np.array([li1,li2])\n",
    "print(b)\n",
    "print(b.ndim)  # which dimension"
   ]
  },
  {
   "cell_type": "code",
   "execution_count": 20,
   "id": "5ee67e9f",
   "metadata": {
    "collapsed": true
   },
   "outputs": [
    {
     "name": "stdout",
     "output_type": "stream",
     "text": [
      "N1 Matrix is: \n",
      "[[45 67]\n",
      " [ 3  5]]\n",
      "N2 Matrix is: \n",
      "[[3 5]\n",
      " [7 8]]\n"
     ]
    }
   ],
   "source": [
    "# Arithmetic Operations\n",
    "n1 = np.array([[45,67],[3,5]])\n",
    "print('N1 Matrix is: ')\n",
    "print(n1)\n",
    "n2 = np.array([[3,5],[7,8]])\n",
    "print(\"N2 Matrix is: \")\n",
    "print(n2)"
   ]
  },
  {
   "cell_type": "code",
   "execution_count": 23,
   "id": "06cdff69",
   "metadata": {
    "collapsed": true
   },
   "outputs": [
    {
     "name": "stdout",
     "output_type": "stream",
     "text": [
      "[[48 72]\n",
      " [10 13]]\n",
      "[[42 62]\n",
      " [-4 -3]]\n",
      "[[604 761]\n",
      " [ 44  55]]\n"
     ]
    }
   ],
   "source": [
    "print(n1+n2) # Matrix addition\n",
    "print(n1-n2) # Matrix substraction\n",
    "print(n1.dot(n2))  # matrix multiplication"
   ]
  },
  {
   "cell_type": "code",
   "execution_count": null,
   "id": "dbdfe626",
   "metadata": {},
   "outputs": [],
   "source": [
    "## Random()\n",
    "    - It is one of the sub module in numpy\n",
    "    - It is used to generate random numbers"
   ]
  },
  {
   "cell_type": "code",
   "execution_count": 24,
   "id": "6a1d3c7d",
   "metadata": {
    "collapsed": true
   },
   "outputs": [
    {
     "name": "stdout",
     "output_type": "stream",
     "text": [
      "['BitGenerator', 'Generator', 'MT19937', 'PCG64', 'PCG64DXSM', 'Philox', 'RandomState', 'SFC64', 'SeedSequence', '__RandomState_ctor', '__all__', '__builtins__', '__cached__', '__doc__', '__file__', '__loader__', '__name__', '__package__', '__path__', '__spec__', '_bounded_integers', '_common', '_generator', '_mt19937', '_pcg64', '_philox', '_pickle', '_sfc64', 'beta', 'binomial', 'bit_generator', 'bytes', 'chisquare', 'choice', 'default_rng', 'dirichlet', 'exponential', 'f', 'gamma', 'geometric', 'get_bit_generator', 'get_state', 'gumbel', 'hypergeometric', 'laplace', 'logistic', 'lognormal', 'logseries', 'mtrand', 'multinomial', 'multivariate_normal', 'negative_binomial', 'noncentral_chisquare', 'noncentral_f', 'normal', 'pareto', 'permutation', 'poisson', 'power', 'rand', 'randint', 'randn', 'random', 'random_integers', 'random_sample', 'ranf', 'rayleigh', 'sample', 'seed', 'set_bit_generator', 'set_state', 'shuffle', 'standard_cauchy', 'standard_exponential', 'standard_gamma', 'standard_normal', 'standard_t', 'test', 'triangular', 'uniform', 'vonmises', 'wald', 'weibull', 'zipf']\n"
     ]
    }
   ],
   "source": [
    "# Print random methods in numpy\n",
    "r = np.random\n",
    "print(dir(r))"
   ]
  },
  {
   "cell_type": "code",
   "execution_count": 30,
   "id": "3802dfb3",
   "metadata": {
    "collapsed": true
   },
   "outputs": [
    {
     "name": "stdout",
     "output_type": "stream",
     "text": [
      "71\n"
     ]
    }
   ],
   "source": [
    "# Generate single random value\n",
    "print(np.random.randint(1,100))"
   ]
  },
  {
   "cell_type": "code",
   "execution_count": 34,
   "id": "d67a1277",
   "metadata": {
    "collapsed": true
   },
   "outputs": [
    {
     "name": "stdout",
     "output_type": "stream",
     "text": [
      "[17  4  4  1 19 10]\n"
     ]
    }
   ],
   "source": [
    "# Generate random numbers between range\n",
    "print(np.random.randint(1,20,6))"
   ]
  },
  {
   "cell_type": "code",
   "execution_count": 38,
   "id": "46884d7c",
   "metadata": {
    "collapsed": true
   },
   "outputs": [
    {
     "name": "stdout",
     "output_type": "stream",
     "text": [
      "[[24 29 15]\n",
      " [20 22 15]]\n"
     ]
    }
   ],
   "source": [
    "# 2-d matrix using random\n",
    "print(np.random.randint(10,30,(2,3)))"
   ]
  },
  {
   "cell_type": "code",
   "execution_count": 39,
   "id": "05eeb2d4",
   "metadata": {
    "collapsed": true
   },
   "outputs": [
    {
     "name": "stdout",
     "output_type": "stream",
     "text": [
      "[[21 14 13 23]\n",
      " [12 17 10 16]\n",
      " [24 24 26 24]\n",
      " [19 21 21 22]]\n"
     ]
    }
   ],
   "source": [
    "print(np.random.randint(10,30,(4,4)))"
   ]
  },
  {
   "cell_type": "code",
   "execution_count": 44,
   "id": "20cc4312",
   "metadata": {
    "collapsed": true
   },
   "outputs": [
    {
     "name": "stdout",
     "output_type": "stream",
     "text": [
      "[[16 29 16 22]\n",
      " [16 27 28 16]\n",
      " [25 28 17 14]]\n",
      "[16 29 16 22]\n",
      "[25 28 17 14]\n",
      "[[25 28 17 14]\n",
      " [16 27 28 16]\n",
      " [16 29 16 22]]\n"
     ]
    }
   ],
   "source": [
    "p = np.random.randint(10,30,(3,4))\n",
    "print(p)\n",
    "print(p[0])  # 1st row\n",
    "print(p[-1])  # last row\n",
    "print(p[::-1])  # reversed matrix"
   ]
  },
  {
   "cell_type": "code",
   "execution_count": 46,
   "id": "07ba815f",
   "metadata": {
    "collapsed": true
   },
   "outputs": [
    {
     "name": "stdout",
     "output_type": "stream",
     "text": [
      "[[16 29 16 22]\n",
      " [16 27 28 16]\n",
      " [25 28 17 14]]\n"
     ]
    }
   ],
   "source": [
    "# Boolean indexing and fancy indexing\n",
    "print(p)"
   ]
  },
  {
   "cell_type": "code",
   "execution_count": 50,
   "id": "5c88ee0c",
   "metadata": {
    "collapsed": true
   },
   "outputs": [
    {
     "name": "stdout",
     "output_type": "stream",
     "text": [
      "[[False  True False  True]\n",
      " [False  True  True False]\n",
      " [ True  True False False]]\n"
     ]
    }
   ],
   "source": [
    "print(p>20)"
   ]
  },
  {
   "cell_type": "code",
   "execution_count": 51,
   "id": "44c10f22",
   "metadata": {
    "collapsed": true
   },
   "outputs": [
    {
     "name": "stdout",
     "output_type": "stream",
     "text": [
      "[[ True False  True False]\n",
      " [ True False False  True]\n",
      " [False False  True  True]]\n"
     ]
    }
   ],
   "source": [
    "print(p<20)"
   ]
  },
  {
   "cell_type": "code",
   "execution_count": 52,
   "id": "4fc6f506",
   "metadata": {
    "collapsed": true
   },
   "outputs": [
    {
     "name": "stdout",
     "output_type": "stream",
     "text": [
      "[[ True False  True  True]\n",
      " [ True False  True  True]\n",
      " [False  True False  True]]\n"
     ]
    }
   ],
   "source": [
    "# Print even numbers\n",
    "print(p%2==0)"
   ]
  },
  {
   "cell_type": "code",
   "execution_count": 54,
   "id": "fd64ebf3",
   "metadata": {
    "collapsed": true
   },
   "outputs": [
    {
     "name": "stdout",
     "output_type": "stream",
     "text": [
      "[[False  True False False]\n",
      " [False  True False False]\n",
      " [ True False  True False]]\n"
     ]
    }
   ],
   "source": [
    "# print odd numbers\n",
    "print(p%2==1)"
   ]
  },
  {
   "cell_type": "code",
   "execution_count": 55,
   "id": "d6cef4c1",
   "metadata": {
    "collapsed": true
   },
   "outputs": [
    {
     "name": "stdout",
     "output_type": "stream",
     "text": [
      "[[False False False False]\n",
      " [False False False False]\n",
      " [ True False False False]]\n"
     ]
    }
   ],
   "source": [
    "print(p%5==0)"
   ]
  },
  {
   "cell_type": "code",
   "execution_count": 56,
   "id": "8aa67656",
   "metadata": {
    "collapsed": true
   },
   "outputs": [
    {
     "name": "stdout",
     "output_type": "stream",
     "text": [
      "[[16 29 16 22]\n",
      " [16 27 28 16]\n",
      " [25 28 17 14]]\n"
     ]
    }
   ],
   "source": [
    "# fancy indexing\n",
    "     # it will return's values\n",
    "print(p)"
   ]
  },
  {
   "cell_type": "code",
   "execution_count": 59,
   "id": "d78db531",
   "metadata": {
    "collapsed": true
   },
   "outputs": [
    {
     "name": "stdout",
     "output_type": "stream",
     "text": [
      "[16 16 22 16 28 16 28 14]\n",
      "[29 27 25 17]\n"
     ]
    }
   ],
   "source": [
    "print(p[p%2==0])  # print only even values\n",
    "print(p[p%2==1])  # print only odd values"
   ]
  },
  {
   "cell_type": "code",
   "execution_count": null,
   "id": "dc974259",
   "metadata": {},
   "outputs": [],
   "source": [
    "## Reshape()\n",
    "    - Based on the elements we can reshape\n",
    "    - It converts 1-d to n-d array"
   ]
  },
  {
   "cell_type": "code",
   "execution_count": 61,
   "id": "d7a64ef5",
   "metadata": {
    "collapsed": true
   },
   "outputs": [
    {
     "name": "stdout",
     "output_type": "stream",
     "text": [
      "[0 1 2 3 4 5 6 7 8 9]\n"
     ]
    }
   ],
   "source": [
    "# 1-d array\n",
    "n = np.arange(10)\n",
    "print(n)"
   ]
  },
  {
   "cell_type": "code",
   "execution_count": 62,
   "id": "46410c7d",
   "metadata": {
    "collapsed": true
   },
   "outputs": [
    {
     "name": "stdout",
     "output_type": "stream",
     "text": [
      "[[0 1 2 3 4]\n",
      " [5 6 7 8 9]]\n"
     ]
    }
   ],
   "source": [
    "# 1-d to 2-d array\n",
    "n = np.arange(10).reshape(2,5)\n",
    "print(n)"
   ]
  },
  {
   "cell_type": "code",
   "execution_count": 63,
   "id": "6ac58418",
   "metadata": {
    "collapsed": true
   },
   "outputs": [
    {
     "name": "stdout",
     "output_type": "stream",
     "text": [
      "[[ 0  1  2  3  4]\n",
      " [ 5  6  7  8  9]\n",
      " [10 11 12 13 14]\n",
      " [15 16 17 18 19]]\n"
     ]
    }
   ],
   "source": [
    "# 4-dimensions\n",
    "n = np.arange(20).reshape(4,5)\n",
    "print(n)"
   ]
  },
  {
   "cell_type": "code",
   "execution_count": 64,
   "id": "d9719c23",
   "metadata": {},
   "outputs": [
    {
     "name": "stdout",
     "output_type": "stream",
     "text": [
      "[[ 0  1  2  3  4  5  6  7  8  9]\n",
      " [10 11 12 13 14 15 16 17 18 19]\n",
      " [20 21 22 23 24 25 26 27 28 29]]\n"
     ]
    }
   ],
   "source": [
    "n = np.arange(30).reshape(3,10)\n",
    "print(n)"
   ]
  },
  {
   "cell_type": "code",
   "execution_count": 70,
   "id": "2916736c",
   "metadata": {
    "collapsed": true
   },
   "outputs": [
    {
     "name": "stdout",
     "output_type": "stream",
     "text": [
      "[[ 0  1  2  3]\n",
      " [ 4  5  6  7]\n",
      " [ 8  9 10 11]]\n",
      "[[0 1]\n",
      " [2 3]]\n",
      "[[ 0  1  2  3  4]\n",
      " [ 5  6  7  8  9]\n",
      " [10 11  0  1  2]\n",
      " [ 3  4  5  6  7]\n",
      " [ 8  9 10 11  0]]\n"
     ]
    }
   ],
   "source": [
    "# resize()\n",
    "n = np.arange(12).reshape(3,4)\n",
    "print(n)\n",
    "print(np.resize(n,(2,2)))\n",
    "print(np.resize(n,(5,5)))"
   ]
  },
  {
   "cell_type": "code",
   "execution_count": 71,
   "id": "8a3419a5",
   "metadata": {
    "collapsed": true
   },
   "outputs": [
    {
     "name": "stdout",
     "output_type": "stream",
     "text": [
      "[[ 7 13 29]\n",
      " [23 17  7]\n",
      " [11 19 22]\n",
      " [19  1  6]\n",
      " [12 11  5]\n",
      " [21  7 15]\n",
      " [ 9 26  8]\n",
      " [14  2 15]\n",
      " [12 27 17]\n",
      " [22 19 21]]\n"
     ]
    }
   ],
   "source": [
    "# slicing\n",
    "a = np.random.randint(1,30,(10,3))\n",
    "print(a)"
   ]
  },
  {
   "cell_type": "code",
   "execution_count": 72,
   "id": "d1207eb8",
   "metadata": {
    "collapsed": true
   },
   "outputs": [
    {
     "name": "stdout",
     "output_type": "stream",
     "text": [
      "[[ 7 13 29]\n",
      " [23 17  7]\n",
      " [11 19 22]]\n"
     ]
    }
   ],
   "source": [
    "print(a[0:3])"
   ]
  },
  {
   "cell_type": "code",
   "execution_count": 73,
   "id": "6d53db70",
   "metadata": {
    "collapsed": true
   },
   "outputs": [
    {
     "name": "stdout",
     "output_type": "stream",
     "text": [
      "[[12 11  5]\n",
      " [21  7 15]\n",
      " [ 9 26  8]\n",
      " [14  2 15]\n",
      " [12 27 17]]\n"
     ]
    }
   ],
   "source": [
    "print(a[4:9])"
   ]
  },
  {
   "cell_type": "code",
   "execution_count": 77,
   "id": "692e8e72",
   "metadata": {
    "collapsed": true
   },
   "outputs": [
    {
     "name": "stdout",
     "output_type": "stream",
     "text": [
      "[22 19 21]\n",
      "[[22 19 21]\n",
      " [12 27 17]\n",
      " [14  2 15]\n",
      " [ 9 26  8]\n",
      " [21  7 15]\n",
      " [12 11  5]\n",
      " [19  1  6]\n",
      " [11 19 22]\n",
      " [23 17  7]\n",
      " [ 7 13 29]]\n",
      "[[ 7 13 29]\n",
      " [11 19 22]\n",
      " [12 11  5]\n",
      " [ 9 26  8]\n",
      " [12 27 17]]\n",
      "[[ 7 13 29]\n",
      " [12 11  5]\n",
      " [12 27 17]]\n"
     ]
    }
   ],
   "source": [
    "print(a[-1])\n",
    "print(a[::-1])\n",
    "print(a[0::2])\n",
    "print(a[0::4])"
   ]
  },
  {
   "cell_type": "code",
   "execution_count": 82,
   "id": "15c1b6f2",
   "metadata": {
    "collapsed": true
   },
   "outputs": [
    {
     "name": "stdout",
     "output_type": "stream",
     "text": [
      "0.6931471805599453\n",
      "1.6094379124341003\n",
      "[3.33220451 2.19722458 2.48490665 4.35670883]\n"
     ]
    }
   ],
   "source": [
    "# scientific\n",
    "import numpy as np\n",
    "print(np.log(2))\n",
    "print(np.log(5))\n",
    "print(np.log([28,9,12,78]))"
   ]
  },
  {
   "cell_type": "code",
   "execution_count": 85,
   "id": "b10aa342",
   "metadata": {
    "collapsed": true
   },
   "outputs": [
    {
     "name": "stdout",
     "output_type": "stream",
     "text": [
      "20.085536923187668\n",
      "2980.9579870417283\n",
      "[2.09165950e+24 2.14643580e+14 7.49841700e+33 2.71828183e+00\n",
      " 7.38905610e+00]\n"
     ]
    }
   ],
   "source": [
    "# To find exponential values\n",
    "print(np.exp(3))\n",
    "print(np.exp(8))\n",
    "print(np.exp([56,33,78,1,2]))"
   ]
  },
  {
   "cell_type": "code",
   "execution_count": 87,
   "id": "5cbd1fea",
   "metadata": {},
   "outputs": [
    {
     "data": {
      "text/plain": [
       "0.0"
      ]
     },
     "execution_count": 87,
     "metadata": {},
     "output_type": "execute_result"
    }
   ],
   "source": [
    "np.sin(0)"
   ]
  },
  {
   "cell_type": "code",
   "execution_count": 88,
   "id": "14a960bd",
   "metadata": {},
   "outputs": [
    {
     "data": {
      "text/plain": [
       "-6.405331196646276"
      ]
     },
     "execution_count": 88,
     "metadata": {},
     "output_type": "execute_result"
    }
   ],
   "source": [
    "np.tan(30)"
   ]
  },
  {
   "cell_type": "code",
   "execution_count": 89,
   "id": "776b7865",
   "metadata": {},
   "outputs": [
    {
     "data": {
      "text/plain": [
       "1.0"
      ]
     },
     "execution_count": 89,
     "metadata": {},
     "output_type": "execute_result"
    }
   ],
   "source": [
    "np.cos(0)"
   ]
  },
  {
   "cell_type": "markdown",
   "id": "8b3f0077",
   "metadata": {},
   "source": [
    " #### Pandas\n",
    "     - It means panel data\n",
    "     - It is one of the data science package\n",
    "     - Used for data manuplation,analysis, and cleaning\n",
    "     \n",
    "  - It contains two data structures\n",
    "      - Series --> Sequence of data\n",
    "      - Data Frames --> Dataframe is a data with row and column"
   ]
  },
  {
   "cell_type": "code",
   "execution_count": null,
   "id": "6f24e36b",
   "metadata": {},
   "outputs": [],
   "source": [
    "# installation\n",
    " - pip install pandas"
   ]
  },
  {
   "cell_type": "code",
   "execution_count": 90,
   "id": "350b138a",
   "metadata": {},
   "outputs": [],
   "source": [
    "import pandas as pd"
   ]
  },
  {
   "cell_type": "code",
   "execution_count": 91,
   "id": "b4d4c4aa",
   "metadata": {
    "collapsed": true
   },
   "outputs": [
    {
     "data": {
      "text/plain": [
       "'2.0.3'"
      ]
     },
     "execution_count": 91,
     "metadata": {},
     "output_type": "execute_result"
    }
   ],
   "source": [
    "pd.__version__"
   ]
  },
  {
   "cell_type": "code",
   "execution_count": 93,
   "id": "6803a8cf",
   "metadata": {
    "collapsed": true
   },
   "outputs": [
    {
     "data": {
      "text/plain": [
       "0    hello\n",
       "dtype: object"
      ]
     },
     "execution_count": 93,
     "metadata": {},
     "output_type": "execute_result"
    }
   ],
   "source": [
    "# Creation of series using string\n",
    "s = \"hello\"\n",
    "pd.Series(s)"
   ]
  },
  {
   "cell_type": "code",
   "execution_count": 94,
   "id": "a7ced352",
   "metadata": {
    "collapsed": true
   },
   "outputs": [
    {
     "data": {
      "text/plain": [
       "0       good\n",
       "1    evening\n",
       "2         to\n",
       "3        all\n",
       "dtype: object"
      ]
     },
     "execution_count": 94,
     "metadata": {},
     "output_type": "execute_result"
    }
   ],
   "source": [
    "s1 = \"good evening to all\".split()\n",
    "pd.Series(s1)"
   ]
  },
  {
   "cell_type": "code",
   "execution_count": 98,
   "id": "04d04c90",
   "metadata": {
    "collapsed": true
   },
   "outputs": [
    {
     "name": "stdout",
     "output_type": "stream",
     "text": [
      "0      4\n",
      "1      5\n",
      "2      a\n",
      "3      b\n",
      "4    7.8\n",
      "5    3.7\n",
      "dtype: object <class 'pandas.core.series.Series'>\n"
     ]
    }
   ],
   "source": [
    "# using list\n",
    "li = [4,5,\"a\",\"b\",7.8,3.7]\n",
    "j = pd.Series(li)\n",
    "print(j,type(j))"
   ]
  },
  {
   "cell_type": "code",
   "execution_count": 96,
   "id": "2cc72678",
   "metadata": {
    "collapsed": true
   },
   "outputs": [
    {
     "data": {
      "text/plain": [
       "int      4\n",
       "float    5\n",
       "str      a\n",
       "dtype: object"
      ]
     },
     "execution_count": 96,
     "metadata": {},
     "output_type": "execute_result"
    }
   ],
   "source": [
    "# changing index\n",
    "li = [4,5,\"a\"]\n",
    "pd.Series(li,index=['int','float','str'])"
   ]
  },
  {
   "cell_type": "code",
   "execution_count": 97,
   "id": "2a456172",
   "metadata": {
    "collapsed": true
   },
   "outputs": [
    {
     "data": {
      "text/plain": [
       "v1    4\n",
       "v2    5\n",
       "v3    a\n",
       "dtype: object"
      ]
     },
     "execution_count": 97,
     "metadata": {},
     "output_type": "execute_result"
    }
   ],
   "source": [
    "li = [4,5,\"a\"]\n",
    "pd.Series(li,index=['v1','v2','v3'])"
   ]
  },
  {
   "cell_type": "code",
   "execution_count": 99,
   "id": "26c5ba5b",
   "metadata": {
    "collapsed": true
   },
   "outputs": [
    {
     "name": "stdout",
     "output_type": "stream",
     "text": [
      "A    4\n",
      "B    5\n",
      "C    6\n",
      "D    7\n",
      "dtype: int64\n"
     ]
    }
   ],
   "source": [
    "# Giving indexes and values to the series \n",
    "    # data structure using list\n",
    "li1 = pd.Series([4,5,6,7],index = ['A','B','C','D'])\n",
    "print(li1)"
   ]
  },
  {
   "cell_type": "code",
   "execution_count": 100,
   "id": "b6ed6b9c",
   "metadata": {
    "collapsed": true
   },
   "outputs": [
    {
     "name": "stdout",
     "output_type": "stream",
     "text": [
      "name       vanitha\n",
      "roll no       4857\n",
      "branch         ece\n",
      "dtype: object\n"
     ]
    }
   ],
   "source": [
    "# using dictionary\n",
    "d = pd.Series({'name':'vanitha','roll no':4857,'branch':'ece'})\n",
    "print(d)"
   ]
  },
  {
   "cell_type": "code",
   "execution_count": 101,
   "id": "e731a2f2",
   "metadata": {
    "collapsed": true
   },
   "outputs": [
    {
     "data": {
      "text/plain": [
       "0    56\n",
       "1    78\n",
       "2    11\n",
       "3    45\n",
       "dtype: int64"
      ]
     },
     "execution_count": 101,
     "metadata": {},
     "output_type": "execute_result"
    }
   ],
   "source": [
    "# using tuple\n",
    "t = pd.Series((56,78,11,45))\n",
    "t"
   ]
  },
  {
   "cell_type": "code",
   "execution_count": 103,
   "id": "989a3878",
   "metadata": {
    "collapsed": true
   },
   "outputs": [
    {
     "name": "stdout",
     "output_type": "stream",
     "text": [
      "11 45\n"
     ]
    }
   ],
   "source": [
    "print(t[2],t[3])"
   ]
  },
  {
   "cell_type": "code",
   "execution_count": 105,
   "id": "b91d2d18",
   "metadata": {
    "collapsed": true
   },
   "outputs": [
    {
     "name": "stdout",
     "output_type": "stream",
     "text": [
      "4857 vanitha\n"
     ]
    }
   ],
   "source": [
    "print(d['roll no'],d['name'])"
   ]
  },
  {
   "cell_type": "code",
   "execution_count": 106,
   "id": "fb366bb5",
   "metadata": {},
   "outputs": [
    {
     "name": "stdout",
     "output_type": "stream",
     "text": [
      "name       vanitha\n",
      "roll no       4857\n",
      "branch         ece\n",
      "dtype: object\n"
     ]
    }
   ],
   "source": [
    "print(d)"
   ]
  },
  {
   "cell_type": "code",
   "execution_count": 107,
   "id": "f74c3fd8",
   "metadata": {
    "collapsed": true
   },
   "outputs": [
    {
     "name": "stdout",
     "output_type": "stream",
     "text": [
      "A    4\n",
      "B    5\n",
      "C    6\n",
      "D    7\n",
      "dtype: int64\n"
     ]
    }
   ],
   "source": [
    "print(li1)"
   ]
  },
  {
   "cell_type": "code",
   "execution_count": 108,
   "id": "32d7c324",
   "metadata": {
    "collapsed": true
   },
   "outputs": [
    {
     "name": "stdout",
     "output_type": "stream",
     "text": [
      "A    4\n",
      "B    5\n",
      "C    6\n",
      "dtype: int64\n"
     ]
    }
   ],
   "source": [
    "# To GET multiple items\n",
    "print(li1['A':'C'])"
   ]
  },
  {
   "cell_type": "code",
   "execution_count": 109,
   "id": "0e7db9d9",
   "metadata": {
    "collapsed": true
   },
   "outputs": [
    {
     "name": "stdout",
     "output_type": "stream",
     "text": [
      "A    4\n",
      "C    6\n",
      "dtype: int64\n"
     ]
    }
   ],
   "source": [
    "print(li1['A':'D':2])"
   ]
  },
  {
   "cell_type": "code",
   "execution_count": 111,
   "id": "137257ab",
   "metadata": {
    "collapsed": true
   },
   "outputs": [
    {
     "data": {
      "text/plain": [
       "A    67\n",
       "B     5\n",
       "C     6\n",
       "D     7\n",
       "dtype: int64"
      ]
     },
     "execution_count": 111,
     "metadata": {},
     "output_type": "execute_result"
    }
   ],
   "source": [
    "# UPDATE THE SERIES VALUES\n",
    "li1['A']=67\n",
    "li1"
   ]
  },
  {
   "cell_type": "code",
   "execution_count": 112,
   "id": "62656147",
   "metadata": {
    "collapsed": true
   },
   "outputs": [
    {
     "data": {
      "text/plain": [
       "A    67\n",
       "B     5\n",
       "C    66\n",
       "D     7\n",
       "dtype: int64"
      ]
     },
     "execution_count": 112,
     "metadata": {},
     "output_type": "execute_result"
    }
   ],
   "source": [
    "# using replace method we can change the value\n",
    "li1 = li1.replace(6,66)\n",
    "li1"
   ]
  },
  {
   "cell_type": "code",
   "execution_count": null,
   "id": "6096ffce",
   "metadata": {},
   "outputs": [],
   "source": []
  }
 ],
 "metadata": {
  "kernelspec": {
   "display_name": "Python 3 (ipykernel)",
   "language": "python",
   "name": "python3"
  },
  "language_info": {
   "codemirror_mode": {
    "name": "ipython",
    "version": 3
   },
   "file_extension": ".py",
   "mimetype": "text/x-python",
   "name": "python",
   "nbconvert_exporter": "python",
   "pygments_lexer": "ipython3",
   "version": "3.11.5"
  }
 },
 "nbformat": 4,
 "nbformat_minor": 5
}
