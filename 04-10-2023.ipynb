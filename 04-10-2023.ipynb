{
 "cells": [
  {
   "cell_type": "markdown",
   "id": "318af6d3",
   "metadata": {},
   "source": [
    "- functions\n",
    "- strings\n",
    "- data structures\n",
    "    - list\n",
    "    - tuple\n",
    "    - dictionary\n",
    "    - set"
   ]
  },
  {
   "cell_type": "markdown",
   "id": "8295b66c",
   "metadata": {},
   "source": [
    "- functions\n",
    "    -> It is a block of code which only runs when it is called\n",
    "    \n",
    "- Advantages\n",
    "    --> Code Reusability\n",
    "    --> Reduce the chances of errors\n",
    "    \n",
    "    - functions are divided into 2 types\n",
    "        1.builit in functions :-  Developed by the developers\n",
    "                                    EX: print(),min(),len().....\n",
    "        2.user defined functions :-\n",
    "            - These functions are developed by the users\n",
    "            \n",
    "   User defined functions divided into 4 types\n",
    "       - 1.with argument with return value\n",
    "       - 2.with argument without return value\n",
    "       - 3.without argument with return value\n",
    "       - 4.without argument without return value\n",
    "       \n",
    "   Syntax for functions\n",
    "   -----------------------------------------------\n",
    "   def functionname(arguments/parameters):--> function definition\n",
    "       statements\n",
    "   functionname(arguments/parameters)---> function calling\n",
    "        "
   ]
  },
  {
   "cell_type": "code",
   "execution_count": 1,
   "id": "1bba6d35",
   "metadata": {},
   "outputs": [
    {
     "data": {
      "text/plain": [
       "9"
      ]
     },
     "execution_count": 1,
     "metadata": {},
     "output_type": "execute_result"
    }
   ],
   "source": [
    "# with arguments with return value\n",
    "# addition of 2 numbers\n",
    "a,b = 4,5\n",
    "def add1(a,b):\n",
    "    return a+b\n",
    "add1(a,b)"
   ]
  },
  {
   "cell_type": "code",
   "execution_count": 2,
   "id": "dbb1ccef",
   "metadata": {
    "collapsed": true
   },
   "outputs": [
    {
     "name": "stdout",
     "output_type": "stream",
     "text": [
      "56\n",
      "78\n",
      "134\n"
     ]
    }
   ],
   "source": [
    "# with arguments without return value\n",
    "a,b = int(input()),int(input())\n",
    "def add2(a,b):\n",
    "    print(a+b)\n",
    "add2(a,b)"
   ]
  },
  {
   "cell_type": "code",
   "execution_count": 3,
   "id": "a9b9c0f8",
   "metadata": {
    "collapsed": true
   },
   "outputs": [
    {
     "name": "stdout",
     "output_type": "stream",
     "text": [
      "67\n",
      "33\n"
     ]
    },
    {
     "data": {
      "text/plain": [
       "100"
      ]
     },
     "execution_count": 3,
     "metadata": {},
     "output_type": "execute_result"
    }
   ],
   "source": [
    "# without arguments with return value\n",
    "c,d = int(input()),int(input())\n",
    "def add3():\n",
    "    return c+d\n",
    "add3()"
   ]
  },
  {
   "cell_type": "code",
   "execution_count": 4,
   "id": "d279075b",
   "metadata": {
    "collapsed": true
   },
   "outputs": [
    {
     "name": "stdout",
     "output_type": "stream",
     "text": [
      "11\n"
     ]
    }
   ],
   "source": [
    "# without arguments without return value\n",
    "c,d = 4,7\n",
    "def add4():\n",
    "    print(c+d)\n",
    "add4()"
   ]
  },
  {
   "cell_type": "code",
   "execution_count": 6,
   "id": "01ece4c4",
   "metadata": {
    "collapsed": true
   },
   "outputs": [
    {
     "name": "stdout",
     "output_type": "stream",
     "text": [
      "33\n",
      "odd\n"
     ]
    }
   ],
   "source": [
    "n = int(input())\n",
    "def evenodd(n):\n",
    "    if(n%2==0):\n",
    "        print(\"even\")\n",
    "    else:\n",
    "        print(\"odd\")\n",
    "evenodd(n)"
   ]
  },
  {
   "cell_type": "code",
   "execution_count": 4,
   "id": "59f1fbc9",
   "metadata": {
    "collapsed": true
   },
   "outputs": [
    {
     "name": "stdout",
     "output_type": "stream",
     "text": [
      "28\n",
      "factors sum-  28\n",
      "Perfect\n"
     ]
    }
   ],
   "source": [
    "# perfect number\n",
    "# 6 = 1 2 3 6 = 1+2+3=6\n",
    "n = int(input())\n",
    "def perfect(n):\n",
    "    f_sum=0\n",
    "    for i in range(1,n):\n",
    "        if(n%i==0):\n",
    "            f_sum=f_sum+i\n",
    "    print(\"factors sum- \",f_sum)\n",
    "    if(f_sum==n):\n",
    "        print(\"Perfect\")\n",
    "    else:\n",
    "        print(\"Not perfect\")\n",
    "perfect(n)"
   ]
  },
  {
   "cell_type": "markdown",
   "id": "e51faa47",
   "metadata": {},
   "source": [
    "- string\n",
    "    ---> It is a group of characters (or)\n",
    "           anything within the quotes is called a string\n",
    "           \n",
    "    ---> index starts with '0'\n",
    "    ---> String is immutable(We can't change the original\n",
    "               string once we assigned)\n",
    "    --> It has positive/forward and negative/backward indexes"
   ]
  },
  {
   "cell_type": "code",
   "execution_count": 5,
   "id": "20b6601e",
   "metadata": {},
   "outputs": [
    {
     "name": "stdout",
     "output_type": "stream",
     "text": [
      "python <class 'str'>\n"
     ]
    }
   ],
   "source": [
    "s = \"python\"\n",
    "print(s,type(s))"
   ]
  },
  {
   "cell_type": "code",
   "execution_count": 9,
   "id": "29c1e1e6",
   "metadata": {},
   "outputs": [
    {
     "data": {
      "text/plain": [
       "40"
      ]
     },
     "execution_count": 9,
     "metadata": {},
     "output_type": "execute_result"
    }
   ],
   "source": [
    "ord('(')"
   ]
  },
  {
   "cell_type": "code",
   "execution_count": 16,
   "id": "30b4b58c",
   "metadata": {},
   "outputs": [
    {
     "name": "stdout",
     "output_type": "stream",
     "text": [
      "w h o\n",
      "p s w\n"
     ]
    }
   ],
   "source": [
    "s1 = \"workshop\"\n",
    "print(s1[0],s1[5],s1[6])  # postive index\n",
    "print(s1[-1],s1[-4],s1[-8])"
   ]
  },
  {
   "cell_type": "code",
   "execution_count": 24,
   "id": "24525c76",
   "metadata": {
    "collapsed": true
   },
   "outputs": [
    {
     "name": "stdout",
     "output_type": "stream",
     "text": [
      "8 h w ['h', 'k', 'o', 'o', 'p', 'r', 's', 'w']\n"
     ]
    }
   ],
   "source": [
    "# len(),min(),max(),sort(),sum()\n",
    "print(len(s1),min(s1),max(s1),sorted(s1))\n",
    "# print(sum(s1))"
   ]
  },
  {
   "cell_type": "code",
   "execution_count": 23,
   "id": "31e6bfad",
   "metadata": {
    "collapsed": true
   },
   "outputs": [
    {
     "data": {
      "text/plain": [
       "'abcdef'"
      ]
     },
     "execution_count": 23,
     "metadata": {},
     "output_type": "execute_result"
    }
   ],
   "source": [
    "# string concatenation\n",
    "a,b=\"abc\",\"def\"\n",
    "a+b"
   ]
  },
  {
   "cell_type": "code",
   "execution_count": null,
   "id": "fc943e33",
   "metadata": {},
   "outputs": [],
   "source": [
    "# slicing --> cutting into pieces (or)\n",
    "   #   extracting the substrings from the original string"
   ]
  },
  {
   "cell_type": "code",
   "execution_count": 35,
   "id": "50bc59fb",
   "metadata": {
    "collapsed": true
   },
   "outputs": [
    {
     "name": "stdout",
     "output_type": "stream",
     "text": [
      "pyt\n",
      "python wo\n",
      "pto okhp\n",
      "ph rh\n",
      "pyth n workshop python workshop python workshop\n",
      "pohskrow nohtyp\n"
     ]
    }
   ],
   "source": [
    "d = \"python workshop\"\n",
    "print(d[0:3])\n",
    "print(d[0:9])\n",
    "print(d[0:15:2])\n",
    "print(d[0::3])\n",
    "print(d[:4],d[5:],d[:],d[::])\n",
    "print(d[::-1])  # string reverse"
   ]
  },
  {
   "cell_type": "code",
   "execution_count": 36,
   "id": "d09df7a7",
   "metadata": {},
   "outputs": [
    {
     "name": "stdout",
     "output_type": "stream",
     "text": [
      "['__add__', '__class__', '__contains__', '__delattr__', '__dir__', '__doc__', '__eq__', '__format__', '__ge__', '__getattribute__', '__getitem__', '__getnewargs__', '__getstate__', '__gt__', '__hash__', '__init__', '__init_subclass__', '__iter__', '__le__', '__len__', '__lt__', '__mod__', '__mul__', '__ne__', '__new__', '__reduce__', '__reduce_ex__', '__repr__', '__rmod__', '__rmul__', '__setattr__', '__sizeof__', '__str__', '__subclasshook__', 'capitalize', 'casefold', 'center', 'count', 'encode', 'endswith', 'expandtabs', 'find', 'format', 'format_map', 'index', 'isalnum', 'isalpha', 'isascii', 'isdecimal', 'isdigit', 'isidentifier', 'islower', 'isnumeric', 'isprintable', 'isspace', 'istitle', 'isupper', 'join', 'ljust', 'lower', 'lstrip', 'maketrans', 'partition', 'removeprefix', 'removesuffix', 'replace', 'rfind', 'rindex', 'rjust', 'rpartition', 'rsplit', 'rstrip', 'split', 'splitlines', 'startswith', 'strip', 'swapcase', 'title', 'translate', 'upper', 'zfill'] "
     ]
    }
   ],
   "source": [
    "# how to find string methods\n",
    "print(dir(str),end=' ')"
   ]
  },
  {
   "cell_type": "code",
   "execution_count": 38,
   "id": "3b81f56c",
   "metadata": {
    "collapsed": true
   },
   "outputs": [
    {
     "data": {
      "text/plain": [
       "'Apssdc workshop'"
      ]
     },
     "execution_count": 38,
     "metadata": {},
     "output_type": "execute_result"
    }
   ],
   "source": [
    "# capitalize()\n",
    "d = \"apssdc workshop\"\n",
    "d.capitalize()"
   ]
  },
  {
   "cell_type": "code",
   "execution_count": 39,
   "id": "844c5e02",
   "metadata": {},
   "outputs": [
    {
     "data": {
      "text/plain": [
       "'Apssdc Workshop'"
      ]
     },
     "execution_count": 39,
     "metadata": {},
     "output_type": "execute_result"
    }
   ],
   "source": [
    "# title()\n",
    "d.title()"
   ]
  },
  {
   "cell_type": "code",
   "execution_count": 40,
   "id": "d5209735",
   "metadata": {},
   "outputs": [
    {
     "data": {
      "text/plain": [
       "'apssdc'"
      ]
     },
     "execution_count": 40,
     "metadata": {},
     "output_type": "execute_result"
    }
   ],
   "source": [
    "# casefold()\n",
    "h = \"APssdC\"\n",
    "h.casefold()"
   ]
  },
  {
   "cell_type": "code",
   "execution_count": 46,
   "id": "a13c0703",
   "metadata": {},
   "outputs": [
    {
     "name": "stdout",
     "output_type": "stream",
     "text": [
      "JUPYTER\n",
      "book\n"
     ]
    }
   ],
   "source": [
    "# upper(),lower()\n",
    "m,n = \"jupyter\",\"BOOK\"\n",
    "print(m.upper())\n",
    "print(n.lower())"
   ]
  },
  {
   "cell_type": "code",
   "execution_count": 47,
   "id": "edebd054",
   "metadata": {
    "collapsed": true
   },
   "outputs": [
    {
     "data": {
      "text/plain": [
       "'jupiter'"
      ]
     },
     "execution_count": 47,
     "metadata": {},
     "output_type": "execute_result"
    }
   ],
   "source": [
    "# Replace()\n",
    "m.replace(\"y\",\"i\")"
   ]
  },
  {
   "cell_type": "code",
   "execution_count": 48,
   "id": "485cb5f3",
   "metadata": {
    "collapsed": true
   },
   "outputs": [
    {
     "name": "stdout",
     "output_type": "stream",
     "text": [
      "jupyter\n"
     ]
    }
   ],
   "source": [
    "print(m)"
   ]
  },
  {
   "cell_type": "code",
   "execution_count": 57,
   "id": "265c6400",
   "metadata": {
    "collapsed": true
   },
   "outputs": [
    {
     "name": "stdout",
     "output_type": "stream",
     "text": [
      "True\n",
      "True\n"
     ]
    }
   ],
   "source": [
    "# isalnum(),isalpha()\n",
    "h = \"hello\"\n",
    "print(h.isalpha())\n",
    "h1 = \"hi122\"\n",
    "print(h1.isalnum())"
   ]
  },
  {
   "cell_type": "code",
   "execution_count": 62,
   "id": "5d2cdbe0",
   "metadata": {
    "collapsed": true
   },
   "outputs": [
    {
     "name": "stdout",
     "output_type": "stream",
     "text": [
      "False\n",
      "True\n"
     ]
    }
   ],
   "source": [
    "# isspace(),istitle()\n",
    "k = \"\"\n",
    "print(k.isspace())\n",
    "k1 = \"Abc Def\"\n",
    "print(k1.istitle())"
   ]
  },
  {
   "cell_type": "code",
   "execution_count": 65,
   "id": "9c682fda",
   "metadata": {
    "collapsed": true
   },
   "outputs": [
    {
     "name": "stdout",
     "output_type": "stream",
     "text": [
      "True\n",
      "True\n",
      "False\n"
     ]
    }
   ],
   "source": [
    "# startswith(),endswith()\n",
    "m = \"notebook\"\n",
    "print(m.startswith('n'))\n",
    "print(m.endswith('k'))\n",
    "print(m.startswith('k'))"
   ]
  },
  {
   "cell_type": "code",
   "execution_count": 66,
   "id": "6590c7e8",
   "metadata": {
    "collapsed": true
   },
   "outputs": [
    {
     "data": {
      "text/plain": [
       "['hi', 'hello', 'good', 'afternoon']"
      ]
     },
     "execution_count": 66,
     "metadata": {},
     "output_type": "execute_result"
    }
   ],
   "source": [
    "# slpit()\n",
    "n = \"hi hello good afternoon\"\n",
    "n.split()"
   ]
  },
  {
   "cell_type": "code",
   "execution_count": 70,
   "id": "0c763da0",
   "metadata": {
    "collapsed": true
   },
   "outputs": [
    {
     "name": "stdout",
     "output_type": "stream",
     "text": [
      "a889p889s889s889d889c\n"
     ]
    }
   ],
   "source": [
    "# join()\n",
    "b = \"apssdc\"\n",
    "v = \"889\".join(b)\n",
    "print(v)"
   ]
  },
  {
   "cell_type": "code",
   "execution_count": 71,
   "id": "52b38964",
   "metadata": {},
   "outputs": [
    {
     "data": {
      "text/plain": [
       "['hi h', 'ello g', 'ood af', 'tern', 'oon']"
      ]
     },
     "execution_count": 71,
     "metadata": {},
     "output_type": "execute_result"
    }
   ],
   "source": [
    "# split()\n",
    "n = \"hi h#ello g#ood af#tern#oon\"\n",
    "n.split(\"#\")"
   ]
  },
  {
   "cell_type": "code",
   "execution_count": 84,
   "id": "2c1691ee",
   "metadata": {
    "collapsed": true
   },
   "outputs": [
    {
     "name": "stdout",
     "output_type": "stream",
     "text": [
      "0\n"
     ]
    },
    {
     "ename": "ValueError",
     "evalue": "substring not found",
     "output_type": "error",
     "traceback": [
      "\u001b[1;31m---------------------------------------------------------------------------\u001b[0m",
      "\u001b[1;31mValueError\u001b[0m                                Traceback (most recent call last)",
      "Cell \u001b[1;32mIn[84], line 4\u001b[0m\n\u001b[0;32m      2\u001b[0m c \u001b[38;5;241m=\u001b[39m \u001b[38;5;124m\"\u001b[39m\u001b[38;5;124meveningnjhsjfh\u001b[39m\u001b[38;5;124m\"\u001b[39m\n\u001b[0;32m      3\u001b[0m \u001b[38;5;28mprint\u001b[39m(c\u001b[38;5;241m.\u001b[39mindex(\u001b[38;5;124m'\u001b[39m\u001b[38;5;124me\u001b[39m\u001b[38;5;124m'\u001b[39m))\n\u001b[1;32m----> 4\u001b[0m \u001b[38;5;28mprint\u001b[39m(c\u001b[38;5;241m.\u001b[39mindex(\u001b[38;5;124m'\u001b[39m\u001b[38;5;124mz\u001b[39m\u001b[38;5;124m'\u001b[39m))\n\u001b[0;32m      5\u001b[0m \u001b[38;5;28mprint\u001b[39m(c\u001b[38;5;241m.\u001b[39mindex(\u001b[38;5;124m'\u001b[39m\u001b[38;5;124mn\u001b[39m\u001b[38;5;124m'\u001b[39m))\n\u001b[0;32m      6\u001b[0m \u001b[38;5;28mprint\u001b[39m(c\u001b[38;5;241m.\u001b[39mrindex(\u001b[38;5;124m'\u001b[39m\u001b[38;5;124mn\u001b[39m\u001b[38;5;124m'\u001b[39m))\n",
      "\u001b[1;31mValueError\u001b[0m: substring not found"
     ]
    }
   ],
   "source": [
    "# index(),rindex()\n",
    "c = \"eveningnjhsjfh\"\n",
    "print(c.index('e'))\n",
    "print(c.index('z'))\n",
    "print(c.index('n'))\n",
    "print(c.rindex('n'))"
   ]
  },
  {
   "cell_type": "code",
   "execution_count": 83,
   "id": "67e19764",
   "metadata": {
    "collapsed": true
   },
   "outputs": [
    {
     "name": "stdout",
     "output_type": "stream",
     "text": [
      "1\n",
      "3\n",
      "5\n",
      "-1\n"
     ]
    }
   ],
   "source": [
    "# find(),rfind()\n",
    "c = \"evening\"\n",
    "print(c.find('v'))\n",
    "print(c.find('n'))\n",
    "print(c.rfind('n'))\n",
    "print(c.find('z'))"
   ]
  },
  {
   "cell_type": "code",
   "execution_count": 86,
   "id": "14a8a623",
   "metadata": {
    "collapsed": true
   },
   "outputs": [
    {
     "data": {
      "text/plain": [
       "False"
      ]
     },
     "execution_count": 86,
     "metadata": {},
     "output_type": "execute_result"
    }
   ],
   "source": [
    "# isdigit()\n",
    "h = \"347856456dfghg\"\n",
    "h.isdigit()"
   ]
  },
  {
   "cell_type": "code",
   "execution_count": 87,
   "id": "10757df9",
   "metadata": {
    "collapsed": true
   },
   "outputs": [
    {
     "name": "stdout",
     "output_type": "stream",
     "text": [
      "name\n",
      "name\n",
      "name\n"
     ]
    }
   ],
   "source": [
    "# strip(),lstrip(),rstrip()\n",
    "b = \"     name     \"\n",
    "print(b.strip())\n",
    "b1 = \"    name\"\n",
    "print(b1.lstrip())\n",
    "b2 = \"name     \"\n",
    "print(b2.rstrip())"
   ]
  },
  {
   "cell_type": "code",
   "execution_count": 89,
   "id": "3360d245",
   "metadata": {
    "collapsed": true
   },
   "outputs": [
    {
     "data": {
      "text/plain": [
       "'00000000000000000pen'"
      ]
     },
     "execution_count": 89,
     "metadata": {},
     "output_type": "execute_result"
    }
   ],
   "source": [
    "# zfill()\n",
    "c = \"pen\"\n",
    "c.zfill(20)"
   ]
  },
  {
   "cell_type": "code",
   "execution_count": 90,
   "id": "d9357b24",
   "metadata": {
    "collapsed": true
   },
   "outputs": [
    {
     "data": {
      "text/plain": [
       "2"
      ]
     },
     "execution_count": 90,
     "metadata": {},
     "output_type": "execute_result"
    }
   ],
   "source": [
    "# count()\n",
    "x = \"apssdc\"\n",
    "x.count('s')"
   ]
  },
  {
   "cell_type": "code",
   "execution_count": 92,
   "id": "23105405",
   "metadata": {
    "collapsed": true
   },
   "outputs": [
    {
     "name": "stdout",
     "output_type": "stream",
     "text": [
      "True\n",
      "True\n",
      "False\n"
     ]
    }
   ],
   "source": [
    "# isupper(),islower()\n",
    "j,u = \"DFLJR\",'fhejrhej'\n",
    "print(j.isupper())\n",
    "print(u.islower())\n",
    "print(u.isupper())"
   ]
  },
  {
   "cell_type": "code",
   "execution_count": 93,
   "id": "c5eea1fd",
   "metadata": {
    "collapsed": true
   },
   "outputs": [
    {
     "name": "stdout",
     "output_type": "stream",
     "text": [
      "Enter any string: ieouri\n",
      "ieouri <class 'str'>\n"
     ]
    }
   ],
   "source": [
    "st = input('Enter any string: ')\n",
    "print(st,type(st))"
   ]
  },
  {
   "cell_type": "code",
   "execution_count": 103,
   "id": "e9ad5c1e",
   "metadata": {
    "collapsed": true
   },
   "outputs": [
    {
     "name": "stdout",
     "output_type": "stream",
     "text": [
      "p*y*t*h*o*n*"
     ]
    }
   ],
   "source": [
    "d = \"python\"\n",
    "for i in d:\n",
    "    print(i,end='*')"
   ]
  },
  {
   "cell_type": "code",
   "execution_count": 99,
   "id": "abc57b1e",
   "metadata": {
    "collapsed": true
   },
   "outputs": [
    {
     "name": "stdout",
     "output_type": "stream",
     "text": [
      "level\n",
      "palindrom\n"
     ]
    }
   ],
   "source": [
    "# palindrom\n",
    "s = input()\n",
    "if(s==s[::-1]):\n",
    "    print(\"palindrom\")\n",
    "else:\n",
    "    print(\"Not palindrom\")"
   ]
  },
  {
   "cell_type": "code",
   "execution_count": 101,
   "id": "4aaf11fa",
   "metadata": {
    "collapsed": true
   },
   "outputs": [
    {
     "name": "stdout",
     "output_type": "stream",
     "text": [
      "Uppercase Characters are:  RKLEE\n",
      "Lowercase Characters are: colg\n",
      "Digits are :  35674\n",
      "Special characters are :  #@%^\n"
     ]
    }
   ],
   "source": [
    "s = \"RKco356#@lLE74gE%^\"\n",
    "up=lw=dg=sp=\"\"\n",
    "for i in s:\n",
    "    if(i.isupper()): # R\n",
    "        up=up+i # RK\n",
    "    elif(i.islower()):\n",
    "        lw=lw+i # co\n",
    "    elif(i.isdigit()):\n",
    "        dg=dg+i #356\n",
    "    else:\n",
    "        sp=sp+i # #@\n",
    "print(\"Uppercase Characters are: \",up)\n",
    "print(\"Lowercase Characters are:\",lw)\n",
    "print(\"Digits are : \",dg)\n",
    "print(\"Special characters are : \",sp)"
   ]
  },
  {
   "cell_type": "markdown",
   "id": "63dc9fad",
   "metadata": {},
   "source": [
    "- Data Structures\n",
    "    -> A way of organizing the data is called ds\n",
    "    "
   ]
  },
  {
   "cell_type": "code",
   "execution_count": null,
   "id": "3cc73771",
   "metadata": {},
   "outputs": [],
   "source": [
    "- list\n",
    "    - It is used to store multiple items in a single variable\n",
    "    - It is mutable\n",
    "    - Index starts with '0'\n",
    "    - We can store hetrogeneous data\n",
    "    - It can allow the duplicates\n",
    "    - Represented by [],values can be separtated by ,"
   ]
  },
  {
   "cell_type": "code",
   "execution_count": 110,
   "id": "d992acd1",
   "metadata": {},
   "outputs": [
    {
     "name": "stdout",
     "output_type": "stream",
     "text": [
      "[3, 4, 5, 12, 78, 7.8] <class 'list'>\n"
     ]
    }
   ],
   "source": [
    "li = [3,4,5,12,78,7.8]\n",
    "print(li,type(li))"
   ]
  },
  {
   "cell_type": "code",
   "execution_count": 111,
   "id": "cc439900",
   "metadata": {},
   "outputs": [
    {
     "name": "stdout",
     "output_type": "stream",
     "text": [
      "[3, 4, 5, 12, 78, 7.8] 7.8 [7.8, 78, 12, 5, 4, 3]\n"
     ]
    }
   ],
   "source": [
    "print(li[0:6],li[-1],li[::-1])"
   ]
  },
  {
   "cell_type": "code",
   "execution_count": 116,
   "id": "41e5ccaf",
   "metadata": {},
   "outputs": [
    {
     "name": "stdout",
     "output_type": "stream",
     "text": [
      "6 3 78 109.8 [3, 4, 5, 7.8, 12, 78]\n"
     ]
    }
   ],
   "source": [
    "print(len(li),min(li),max(li),sum(li),sorted(li))"
   ]
  },
  {
   "cell_type": "code",
   "execution_count": 117,
   "id": "6dab2e66",
   "metadata": {
    "collapsed": true
   },
   "outputs": [
    {
     "name": "stdout",
     "output_type": "stream",
     "text": [
      "[3, 4, 5, 7.8, [7, 8, 12], 12, 78]\n"
     ]
    }
   ],
   "source": [
    "li1 = [3, 4, 5, 7.8, [7,8,12],12, 78]\n",
    "print(li1)"
   ]
  },
  {
   "cell_type": "code",
   "execution_count": 118,
   "id": "3b414b37",
   "metadata": {},
   "outputs": [
    {
     "data": {
      "text/plain": [
       "[7, 8, 12]"
      ]
     },
     "execution_count": 118,
     "metadata": {},
     "output_type": "execute_result"
    }
   ],
   "source": [
    "li1[4]"
   ]
  },
  {
   "cell_type": "code",
   "execution_count": 119,
   "id": "8901d9e1",
   "metadata": {},
   "outputs": [
    {
     "data": {
      "text/plain": [
       "8"
      ]
     },
     "execution_count": 119,
     "metadata": {},
     "output_type": "execute_result"
    }
   ],
   "source": [
    "li1[4][1]"
   ]
  },
  {
   "cell_type": "code",
   "execution_count": 120,
   "id": "3d31b21b",
   "metadata": {},
   "outputs": [
    {
     "name": "stdout",
     "output_type": "stream",
     "text": [
      "['__add__', '__class__', '__class_getitem__', '__contains__', '__delattr__', '__delitem__', '__dir__', '__doc__', '__eq__', '__format__', '__ge__', '__getattribute__', '__getitem__', '__getstate__', '__gt__', '__hash__', '__iadd__', '__imul__', '__init__', '__init_subclass__', '__iter__', '__le__', '__len__', '__lt__', '__mul__', '__ne__', '__new__', '__reduce__', '__reduce_ex__', '__repr__', '__reversed__', '__rmul__', '__setattr__', '__setitem__', '__sizeof__', '__str__', '__subclasshook__', 'append', 'clear', 'copy', 'count', 'extend', 'index', 'insert', 'pop', 'remove', 'reverse', 'sort'] "
     ]
    }
   ],
   "source": [
    "print(dir(list),end=' ')"
   ]
  },
  {
   "cell_type": "code",
   "execution_count": 122,
   "id": "80cabd58",
   "metadata": {
    "collapsed": true
   },
   "outputs": [
    {
     "data": {
      "text/plain": [
       "[3, 4, 5, 7.8, 12, 78, 50]"
      ]
     },
     "execution_count": 122,
     "metadata": {},
     "output_type": "execute_result"
    }
   ],
   "source": [
    "# append()\n",
    "k = [3, 4, 5, 7.8, 12, 78]\n",
    "k.append(50)\n",
    "k"
   ]
  },
  {
   "cell_type": "code",
   "execution_count": 123,
   "id": "0674ec12",
   "metadata": {
    "collapsed": true
   },
   "outputs": [
    {
     "name": "stdout",
     "output_type": "stream",
     "text": [
      "[3, 4, 5, 7.8, 12, 78] [3, 4, 5, 7.8, 12, 78]\n"
     ]
    }
   ],
   "source": [
    "# copy()\n",
    "a = [3, 4, 5, 7.8, 12, 78]\n",
    "b = a.copy()\n",
    "print(a,b)"
   ]
  },
  {
   "cell_type": "code",
   "execution_count": 125,
   "id": "6b11cbfc",
   "metadata": {
    "collapsed": true
   },
   "outputs": [
    {
     "name": "stdout",
     "output_type": "stream",
     "text": [
      "5\n",
      "0\n"
     ]
    }
   ],
   "source": [
    "# count(),index()\n",
    "j = [3, 4, 5, 7.8, 12, 78, 56, 78, 4,4,4,3,3,3,3]\n",
    "print(j.count(3))\n",
    "print(j.index(3))"
   ]
  },
  {
   "cell_type": "code",
   "execution_count": 126,
   "id": "5b0198aa",
   "metadata": {},
   "outputs": [
    {
     "name": "stdout",
     "output_type": "stream",
     "text": [
      "[1, 2, 3, 5, 6, 7]\n"
     ]
    }
   ],
   "source": [
    "# extend\n",
    "x,y=[1,2,3],[5,6,7]\n",
    "x.extend(y)\n",
    "print(x)"
   ]
  },
  {
   "cell_type": "code",
   "execution_count": 127,
   "id": "2715be8d",
   "metadata": {},
   "outputs": [
    {
     "data": {
      "text/plain": [
       "[3, 4, 56, 5, 7.8, 12, 78]"
      ]
     },
     "execution_count": 127,
     "metadata": {},
     "output_type": "execute_result"
    }
   ],
   "source": [
    "# insert()\n",
    "k = [3, 4, 5, 7.8, 12, 78]\n",
    "k.insert(2,56)  # (index,value)\n",
    "k"
   ]
  },
  {
   "cell_type": "code",
   "execution_count": 128,
   "id": "90a2c742",
   "metadata": {},
   "outputs": [
    {
     "data": {
      "text/plain": [
       "78"
      ]
     },
     "execution_count": 128,
     "metadata": {},
     "output_type": "execute_result"
    }
   ],
   "source": [
    "# pop()\n",
    "k.pop()"
   ]
  },
  {
   "cell_type": "code",
   "execution_count": 129,
   "id": "4452df8d",
   "metadata": {},
   "outputs": [
    {
     "data": {
      "text/plain": [
       "[3, 4, 5, 7.8, 12]"
      ]
     },
     "execution_count": 129,
     "metadata": {},
     "output_type": "execute_result"
    }
   ],
   "source": [
    "# remove()\n",
    "k.remove(56)\n",
    "k"
   ]
  },
  {
   "cell_type": "code",
   "execution_count": 130,
   "id": "8d6cf302",
   "metadata": {},
   "outputs": [],
   "source": [
    "k.clear()"
   ]
  },
  {
   "cell_type": "code",
   "execution_count": 131,
   "id": "8ea3fb7e",
   "metadata": {},
   "outputs": [
    {
     "data": {
      "text/plain": [
       "[]"
      ]
     },
     "execution_count": 131,
     "metadata": {},
     "output_type": "execute_result"
    }
   ],
   "source": [
    "k"
   ]
  },
  {
   "cell_type": "code",
   "execution_count": 132,
   "id": "df6001a5",
   "metadata": {
    "collapsed": true
   },
   "outputs": [
    {
     "name": "stdout",
     "output_type": "stream",
     "text": [
      "3 4 5 7.8 12 78 "
     ]
    }
   ],
   "source": [
    "k1 = [3, 4, 5, 7.8, 12, 78]\n",
    "for i in k1:\n",
    "    print(i,end=' ')"
   ]
  },
  {
   "cell_type": "code",
   "execution_count": 133,
   "id": "3cfc67e8",
   "metadata": {
    "collapsed": true
   },
   "outputs": [
    {
     "name": "stdout",
     "output_type": "stream",
     "text": [
      "3 5 "
     ]
    }
   ],
   "source": [
    "# print only odd values in the list\n",
    "k2 = [3, 4, 5, 7.8, 12, 78]\n",
    "for i in k2:\n",
    "    if(i%2==1):\n",
    "        print(i,end=' ')"
   ]
  },
  {
   "cell_type": "code",
   "execution_count": 134,
   "id": "35f65142",
   "metadata": {},
   "outputs": [
    {
     "name": "stdout",
     "output_type": "stream",
     "text": [
      "109.8\n"
     ]
    }
   ],
   "source": [
    "# print sum \n",
    "t = 0\n",
    "for i in k2:\n",
    "    t=t+i\n",
    "print(t)"
   ]
  },
  {
   "cell_type": "code",
   "execution_count": null,
   "id": "afcfe7b4",
   "metadata": {},
   "outputs": [],
   "source": []
  }
 ],
 "metadata": {
  "kernelspec": {
   "display_name": "Python 3 (ipykernel)",
   "language": "python",
   "name": "python3"
  },
  "language_info": {
   "codemirror_mode": {
    "name": "ipython",
    "version": 3
   },
   "file_extension": ".py",
   "mimetype": "text/x-python",
   "name": "python",
   "nbconvert_exporter": "python",
   "pygments_lexer": "ipython3",
   "version": "3.11.5"
  }
 },
 "nbformat": 4,
 "nbformat_minor": 5
}
